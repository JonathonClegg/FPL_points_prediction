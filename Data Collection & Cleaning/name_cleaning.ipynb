{
 "cells": [
  {
   "attachments": {},
   "cell_type": "markdown",
   "metadata": {},
   "source": [
    "Name Cleaning\n",
    "\n",
    "I have 4 lists of data\n",
    "- full_1_list - All names in table 1\n",
    "- full_2_list - All names in table 2\n",
    "- names_only_in_1 = Names that are uniqure to table 1\n",
    "- names_only_in_2 = Names that are uniqure to table 2\n",
    "\n",
    "I will compare \n",
    "- names_only_in_1 to names_only_in_2\n",
    "- names_only_in_2 to names_only_in_1\n",
    "- names_only_in_1 to full_2_list\n",
    "- names_only_in_2 to full_1_list"
   ]
  },
  {
   "cell_type": "code",
   "execution_count": 8,
   "metadata": {},
   "outputs": [],
   "source": [
    "#Libraries\n",
    "%store -r\n",
    "import pandas as pd\n",
    "import numpy as np\n",
    "import requests\n",
    "from bs4 import BeautifulSoup\n",
    "import json\n",
    "import requests, bs4, os, sys\n",
    "from unidecode import unidecode\n",
    "from fuzzywuzzy import fuzz\n",
    "from collections import defaultdict"
   ]
  },
  {
   "cell_type": "code",
   "execution_count": 9,
   "metadata": {},
   "outputs": [],
   "source": [
    "#Import data from data_collection and cleaning and rename for testing\n",
    "df_full_FPL_test = df_full_FPL\n",
    "df_all_test = df_all"
   ]
  },
  {
   "attachments": {},
   "cell_type": "markdown",
   "metadata": {},
   "source": [
    "1. names_only_in_1 to names_only_in_2"
   ]
  },
  {
   "cell_type": "code",
   "execution_count": 14,
   "metadata": {},
   "outputs": [
    {
     "name": "stdout",
     "output_type": "stream",
     "text": [
      "Names only in set1: ['javier manquillo gaitan', 'wesley moraes', 'daniel castelo podence', 'nelson cabral semedo', 'alisson ramses becker', 'mathias jorgensen', 'andre-frank zambo anguissa', 'juan camilo hernandez suarez', 'bamidele alli', 'ahmed el mohamady', 'emerson leite de souza junior', 'ricardo barbosa pereira', 'felipe augusto de almeida monteiro', 'bruno guimaraes rodriguez moura', 'hwang hee-chan', 'willian jose da silva', 'marcus oliveira alencar', 'norberto murara neto', 'pape matar sarr', 'jonathan castro otto', 'facundo pellistri rebollo', 'matheus santos carneiro da cunha', 'diogo teixeira da silva', 'miguel almiron rejala', 'bobby decordova-reid', 'david luiz moreira marinho', 'diogo dalot teixeira', 'junior firpo adames', 'alejandro garnacho ferreyra', 'diego da silva costa', 'ruben gato alves dias', 'mathew ryan', 'pedro lomba neto', 'oghenekaro peter etebo', 'gabriel teodoro martinelli silva', 'darwin nunez ribeiro', 'pervis estupinan', 'kepa arrizabalaga', 'fabio freitas gouveia carvalho', 'carlos henrique casimiro', 'moises caicedo corozo', 'douglas luiz soares de paulo', 'carlos vinicius alves morais', 'jefferson lerma solis', 'frederico rodrigues de paula santos', 'andreas hoelgebaum pereira', 'bernard anicio caldeira duarte', 'francisco machado mota de castro trincao', 'david raya martin', 'rodrigo hernandez', 'emiliano buendia stati', 'solomon march', 'hector junior firpo adames', 'goncalo manuel ganchinho guedes', 'hugo bueno lopez', 'edward nketiah', 'adama traore diarra', 'emerson aparecido leite de souza junior', 'joelinton cassio apolinario de lira', 'allan marques loureiro', 'samir caetano de souza santos', 'gabriel martinelli silva', 'ederson santana de moraes', 'lyanco evangelista silveira neves vojnovic', 'benjamin white', 'arnaut danjuma', 'diego carlos santos silva', 'matty cash', 'carlos ribeiro dias', 'cheick doucoure', 'bernardo veiga de carvalho e silva', 'ricardo domingos barbosa pereira', 'david de gea quintana', 'emile smith rowe', 'joao felix sequeira', 'jorge luiz frello filho', 'gabriel fernando de jesus', 'benoit badiashile', 'cristiano ronaldo dos santos aveiro', 'gustavo henrique furtado scarpa', 'ruben nascimento vinagre', 'luis sinisterra lucumi', 'mahmoud ahmed ibrahim hassan', 'philippe coutinho correia', 'richarlison de andrade', 'nuno varela tavares', 'tanguy ndombele', 'jose malheiro de sa', 'oluwasemilogo adesewo ibidapo ajayi', 'mads roerslev rasmussen', 'jose diogo dalot teixeira', 'fabio henrique tavares', 'gabriel magalhaes', 'fernando luiz rosa', 'alex nicolao telles', 'thiago emiliano da silva', 'lyanco silveira neves vojnovic', 'joseph willock', 'danilo dos santos de oliveira', 'sergi canos tenes', 'matheus luiz nunes', 'cedric alves soares', 'helder wander sousa de azevedo e costa', 'heung-min son', 'jeremy sarmiento morante', 'amad diallo', 'nayef aguerd', 'bruno miguel borges fernandes', 'joao victor gomes da silva', 'oriol romeu vidal', 'marc cucurella saseta', 'kayky da silva chagas', 'alexandre moreno lopera', 'thiago thiago', 'hamed traore', 'antony matheus dos santos', 'gabriel dos santos magalhaes', 'fabio ferreira vieira', 'nicolas nkoulou', 'mateo joseph fernandez', 'bernardo fernandes da silva junior', 'juan larios lopez', 'lucas rodrigues moura da silva', 'renan augusto lodi dos santos', 'vitor ferreira', 'mohamed naser el sayed elneny', 'ian carlo poveda-ocampo', 'willian borges da silva', 'adrian san miguel del castillo', 'bernardo mota veiga de carvalho e silva', 'pablo hernandez dominguez', 'lucas tolentino coelho de lima', 'ruben santos gato alves dias', 'tino livramento', 'mateus cardoso lemos martins', 'emerson palmieri dos santos', 'joao palhinha goncalves', 'francisco casilla cortes', 'ruben goncalo silva nascimento vinagre', 'joao pedro junqueira de jesus', 'armel bella-kotchap', 'robert kenedy nunes do nascimento', 'joao filipe iria santos moutinho', 'pelenda joshua dasilva', 'francisco femenia far', 'francisco jorge tomas oliveira', 'rayan ait-nouri', 'bruno borges fernandes', 'bobby de cordova-reid', 'andre filipe tavares gomes', 'pablo fornals malla', 'felipe anderson pereira gomes', 'ahmed el-sayed hegazy', 'emiliano martinez romero', 'joao pedro cavaco cancelo', 'raphael dias belloli', 'ivan ricardo neves abreu cavaleiro', 'ruben diogo da silva neves', 'conrad egan-riley', 'toti antonio gomes', 'rui pedro dos santos patricio', 'benjamin chilwell', 'marc roca junque', 'rodrigo moreno', 'daniel ceballos fernandez', 'ruben da silva neves', 'thiago alcantara do nascimento']\n",
      "Names only in set2: ['cafu', 'kayky', 'facundo pellistri', 'ahmed hegazy', 'pape sarr', 'diogo dalot', 'joao palhinha', 'thiago alcantara', 'alex telles', 'dani ceballos', 'emerson', 'darwin nunez', 'valentino livramento', 'kiko casilla', 'nelson semedo', 'helder costa', 'willian', 'arnaut danjuma groeneveld', 'goncalo guedes', 'felipe', 'joelinton', 'joao gomes', 'franck zambo', 'lucas paqueta', 'toti', 'mads roerslev', 'jefferson lerma', 'casemiro', 'felipe anderson', 'danilo', 'trincao', 'cj egan-riley', 'mateo joseph', 'diego carlos', 'diego costa', 'benoit badiashile mukinayi', 'luis sinisterra', 'kepa', 'marc roca', 'gabriel martinelli', 'hugo bueno', 'Bernard Anicio Caldeira Duarte', 'allan', 'ruben vinagre', 'oriol romeu', 'kenedy', 'tete', 'douglas luiz', 'fernandinho', 'kiko femenia', 'ivan cavaleiro', 'tanguy ndombele alvaro', 'alisson', 'richarlison', 'chiquinho', 'gabriel jesus', 'emiliano buendia', 'juan camilo hernandez', 'rui patricio', 'ruben dias', 'willian jose', 'philippe coutinho', 'ahmed elmohamady', 'bobby reid', 'ricardo pereira', 'oghenekaro etebo', 'pablo hernandez', 'emile smith-rowe', 'antony', 'adrian', \"nicolas n'koulou\", 'daniel podence', 'zanka', 'renan lodi', 'joao felix', 'armel bella kotchap', 'mat ryan', 'fabinho', 'thiago silva', 'ederson', 'jorginho', 'fred', 'matheus nunes', 'amad diallo traore', 'bernardo silva', 'jose sa', 'junior firpo', 'naif aguerd', 'david raya', 'vitinha', 'rodri', 'lyanco', 'gabriel', 'alex moreno', 'carlos vinicius', 'pedro neto', 'jonny', 'cristiano ronaldo', 'bruno fernandes', 'ian poveda-ocampo', 'rodrigo', 'neto', 'estupinan', 'samir', 'bernardo', 'matheus cunha', 'gustavo scarpa', 'joao pedro', 'nuno tavares', 'trezeguet', 'andreas pereira', 'fabio vieira', 'david luiz', 'semi ajayi', 'ruben neves', 'andre gomes', 'juan larios', 'marquinhos', 'cheick oumar doucoure', 'hamed junior traore', 'bruno guimaraes', 'wesley', 'lucas moura', 'joao moutinho', 'raphinha']\n"
     ]
    }
   ],
   "source": [
    "#Check which names don't match in each list\n",
    "\n",
    "# Get the sets of names in each dataframe column\n",
    "set1 = set(df_full_FPL_test[\"player_name\"])\n",
    "set2 = set(df_all_test['player_name'])\n",
    "full_1_list = list(set1)\n",
    "full_2_list = list(set2)\n",
    "\n",
    "# Get the names that are in set1 but not in set2 and get the names that are in set2 but not in set1\n",
    "\n",
    "names_only_in_1 = list(set1 - set2)\n",
    "names_only_in_2 = list(set2 - set1)\n",
    "\n",
    "# Print the results\n",
    "print('Names only in set1:', names_only_in_1)\n",
    "print('Names only in set2:', names_only_in_2)"
   ]
  },
  {
   "cell_type": "code",
   "execution_count": 15,
   "metadata": {},
   "outputs": [
    {
     "name": "stdout",
     "output_type": "stream",
     "text": [
      "[('wesley moraes', 'wesley'), ('daniel castelo podence', 'daniel podence'), ('nelson cabral semedo', 'nelson semedo'), ('alisson ramses becker', 'alisson'), ('juan camilo hernandez suarez', 'juan camilo hernandez'), ('ahmed el mohamady', 'ahmed elmohamady'), ('emerson leite de souza junior', 'emerson'), ('ricardo barbosa pereira', 'ricardo pereira'), ('felipe augusto de almeida monteiro', 'felipe'), ('bruno guimaraes rodriguez moura', 'bruno guimaraes'), ('willian jose da silva', 'willian'), ('norberto murara neto', 'neto'), ('pape matar sarr', 'pape sarr'), ('facundo pellistri rebollo', 'facundo pellistri'), ('matheus santos carneiro da cunha', 'matheus cunha'), ('bobby decordova-reid', 'bobby reid'), ('david luiz moreira marinho', 'david luiz'), ('diogo dalot teixeira', 'diogo dalot'), ('junior firpo adames', 'junior firpo'), ('diego da silva costa', 'diego costa'), ('ruben gato alves dias', 'ruben dias'), ('pedro lomba neto', 'pedro neto'), ('oghenekaro peter etebo', 'oghenekaro etebo'), ('gabriel teodoro martinelli silva', 'gabriel martinelli'), ('darwin nunez ribeiro', 'darwin nunez'), ('pervis estupinan', 'estupinan'), ('kepa arrizabalaga', 'kepa'), ('douglas luiz soares de paulo', 'douglas luiz'), ('carlos vinicius alves morais', 'carlos vinicius'), ('jefferson lerma solis', 'jefferson lerma'), ('andreas hoelgebaum pereira', 'andreas pereira'), ('bernard anicio caldeira duarte', 'Bernard Anicio Caldeira Duarte'), ('francisco machado mota de castro trincao', 'trincao'), ('david raya martin', 'david raya'), ('rodrigo hernandez', 'rodrigo'), ('emiliano buendia stati', 'emiliano buendia'), ('hector junior firpo adames', 'junior firpo'), ('goncalo manuel ganchinho guedes', 'goncalo guedes'), ('hugo bueno lopez', 'hugo bueno'), ('emerson aparecido leite de souza junior', 'emerson'), ('joelinton cassio apolinario de lira', 'joelinton'), ('allan marques loureiro', 'allan'), ('samir caetano de souza santos', 'samir'), ('gabriel martinelli silva', 'gabriel martinelli'), ('ederson santana de moraes', 'ederson'), ('lyanco evangelista silveira neves vojnovic', 'lyanco'), ('arnaut danjuma', 'arnaut danjuma groeneveld'), ('diego carlos santos silva', 'diego carlos'), ('cheick doucoure', 'cheick oumar doucoure'), ('bernardo veiga de carvalho e silva', 'bernardo silva'), ('ricardo domingos barbosa pereira', 'ricardo pereira'), ('emile smith rowe', 'emile smith-rowe'), ('joao felix sequeira', 'joao felix'), ('gabriel fernando de jesus', 'gabriel jesus'), ('benoit badiashile', 'benoit badiashile mukinayi'), ('cristiano ronaldo dos santos aveiro', 'cristiano ronaldo'), ('gustavo henrique furtado scarpa', 'gustavo scarpa'), ('ruben nascimento vinagre', 'ruben vinagre'), ('luis sinisterra lucumi', 'luis sinisterra'), ('philippe coutinho correia', 'philippe coutinho'), ('richarlison de andrade', 'richarlison'), ('nuno varela tavares', 'nuno tavares'), ('tanguy ndombele', 'tanguy ndombele alvaro'), ('jose malheiro de sa', 'jose sa'), ('mads roerslev rasmussen', 'mads roerslev'), ('jose diogo dalot teixeira', 'diogo dalot'), ('gabriel magalhaes', 'gabriel'), ('alex nicolao telles', 'alex telles'), ('thiago emiliano da silva', 'thiago silva'), ('lyanco silveira neves vojnovic', 'lyanco'), ('danilo dos santos de oliveira', 'danilo'), ('matheus luiz nunes', 'matheus nunes'), ('helder wander sousa de azevedo e costa', 'helder costa'), ('amad diallo', 'amad diallo traore'), ('bruno miguel borges fernandes', 'bruno fernandes'), ('joao victor gomes da silva', 'joao gomes'), ('oriol romeu vidal', 'oriol romeu'), ('kayky da silva chagas', 'kayky'), ('thiago thiago', 'thiago alcantara'), ('hamed traore', 'hamed junior traore'), ('antony matheus dos santos', 'antony'), ('gabriel dos santos magalhaes', 'gabriel'), ('fabio ferreira vieira', 'fabio vieira'), ('mateo joseph fernandez', 'mateo joseph'), ('bernardo fernandes da silva junior', 'bernardo silva'), ('juan larios lopez', 'juan larios'), ('lucas rodrigues moura da silva', 'lucas moura'), ('renan augusto lodi dos santos', 'renan lodi'), ('ian carlo poveda-ocampo', 'ian poveda-ocampo'), ('willian borges da silva', 'willian'), ('adrian san miguel del castillo', 'adrian'), ('bernardo mota veiga de carvalho e silva', 'bernardo silva'), ('pablo hernandez dominguez', 'pablo hernandez'), ('ruben santos gato alves dias', 'ruben dias'), ('emerson palmieri dos santos', 'emerson'), ('joao palhinha goncalves', 'joao palhinha'), ('ruben goncalo silva nascimento vinagre', 'ruben vinagre'), ('joao pedro junqueira de jesus', 'joao pedro'), ('armel bella-kotchap', 'armel bella kotchap'), ('robert kenedy nunes do nascimento', 'kenedy'), ('joao filipe iria santos moutinho', 'joao moutinho'), ('bruno borges fernandes', 'bruno fernandes'), ('bobby de cordova-reid', 'bobby reid'), ('andre filipe tavares gomes', 'andre gomes'), ('felipe anderson pereira gomes', 'felipe'), ('ahmed el-sayed hegazy', 'ahmed hegazy'), ('joao pedro cavaco cancelo', 'joao pedro'), ('ivan ricardo neves abreu cavaleiro', 'ivan cavaleiro'), ('ruben diogo da silva neves', 'ruben neves'), ('toti antonio gomes', 'toti'), ('rui pedro dos santos patricio', 'rui patricio'), ('marc roca junque', 'marc roca'), ('rodrigo moreno', 'rodrigo'), ('ruben da silva neves', 'ruben neves'), ('thiago alcantara do nascimento', 'thiago alcantara')]\n",
      "[('emerson leite de souza junior', 'emerson'), ('emerson aparecido leite de souza junior', 'emerson'), ('emerson palmieri dos santos', 'emerson'), ('ricardo barbosa pereira', 'ricardo pereira'), ('ricardo domingos barbosa pereira', 'ricardo pereira'), ('felipe augusto de almeida monteiro', 'felipe'), ('felipe anderson pereira gomes', 'felipe'), ('willian jose da silva', 'willian'), ('willian borges da silva', 'willian'), ('bobby decordova-reid', 'bobby reid'), ('bobby de cordova-reid', 'bobby reid'), ('diogo dalot teixeira', 'diogo dalot'), ('jose diogo dalot teixeira', 'diogo dalot'), ('junior firpo adames', 'junior firpo'), ('hector junior firpo adames', 'junior firpo'), ('ruben gato alves dias', 'ruben dias'), ('ruben santos gato alves dias', 'ruben dias'), ('gabriel teodoro martinelli silva', 'gabriel martinelli'), ('gabriel martinelli silva', 'gabriel martinelli'), ('rodrigo hernandez', 'rodrigo'), ('rodrigo moreno', 'rodrigo'), ('lyanco evangelista silveira neves vojnovic', 'lyanco'), ('lyanco silveira neves vojnovic', 'lyanco'), ('bernardo veiga de carvalho e silva', 'bernardo silva'), ('bernardo fernandes da silva junior', 'bernardo silva'), ('bernardo mota veiga de carvalho e silva', 'bernardo silva'), ('ruben nascimento vinagre', 'ruben vinagre'), ('ruben goncalo silva nascimento vinagre', 'ruben vinagre'), ('gabriel teodoro martinelli silva', 'gabriel'), ('gabriel martinelli silva', 'gabriel'), ('gabriel fernando de jesus', 'gabriel'), ('gabriel magalhaes', 'gabriel'), ('gabriel dos santos magalhaes', 'gabriel'), ('bruno miguel borges fernandes', 'bruno fernandes'), ('bruno borges fernandes', 'bruno fernandes'), ('thiago thiago', 'thiago alcantara'), ('thiago alcantara do nascimento', 'thiago alcantara'), ('joao pedro junqueira de jesus', 'joao pedro'), ('joao pedro cavaco cancelo', 'joao pedro'), ('ruben diogo da silva neves', 'ruben neves'), ('ruben da silva neves', 'ruben neves')]\n"
     ]
    }
   ],
   "source": [
    "#Check all matches and check if any of these matches appear more than once\n",
    "\n",
    "all_matches_1 = []\n",
    "\n",
    "# Initialize a dictionary to keep track of the number of times each name in names_only_in_1 has been matched\n",
    "match_counts_1 = defaultdict(int)\n",
    "\n",
    "# Match the names in names_only_in_1 to names in names_only_in_2\n",
    "for name1 in names_only_in_1:\n",
    "    # Find the best match in list2 using the fuzzywuzzy token set ratio\n",
    "    best_match_1 = max(names_only_in_2, key=lambda name2: fuzz.token_set_ratio(name1, name2))\n",
    "    # If the match score is above a certain threshold, consider the names to match\n",
    "    if fuzz.token_set_ratio(name1, best_match_1) > 90:\n",
    "        #Add matches to all_matches list\n",
    "        all_matches_1.append((name1, best_match_1))\n",
    "        # Increment the match count for the best match\n",
    "        match_counts_1[best_match_1] += 1\n",
    "\n",
    "# Initialize a list to store the matching names where match[i] has been matched with more than once\n",
    "double_matches_1 = []\n",
    "\n",
    "# Store the matching names where match[i] has been matched with more than once\n",
    "for name2, count in match_counts_1.items():\n",
    "    if count > 1:\n",
    "        # Find all the names in list1 that match the current name2\n",
    "        matches_1 = [(name1, name2) for name1 in names_only_in_1 if fuzz.token_set_ratio(name1, name2) > 90]\n",
    "        # Add the matching names to the matches_2 list\n",
    "        double_matches_1.extend(matches_1)\n",
    "\n",
    "print(all_matches_1)\n",
    "print(double_matches_1)\n"
   ]
  },
  {
   "cell_type": "code",
   "execution_count": null,
   "metadata": {},
   "outputs": [],
   "source": [
    "#Remove double matches from list for further analysis\n",
    "\n",
    "# Compute the set difference to remove double_matches_1 from all_matches_1. Then turn back to a list.\n",
    "single_matches_1 = list(set(all_matches_1) - set(double_matches_1))\n",
    "\n",
    "# Print the tuples in the new matches list\n",
    "for match in single_matches_1:\n",
    "   print(match)"
   ]
  },
  {
   "cell_type": "code",
   "execution_count": 13,
   "metadata": {},
   "outputs": [],
   "source": [
    "#On a sense check only 1 name gives an issue 'Bernard Anicio Caldeira Duarte', 'Bernard'\n",
    "#Bernard Anicio Caldeira Duarte played at everton but in Understat we have multiple bernards. \n",
    "# The Bernard in question is the player with id 7063 so I will edit the name in Understat and run again.\n",
    "df_all_test.loc[df_all_test['player_id'] == 7063, 'player_name'] = 'Bernard Anicio Caldeira Duarte'"
   ]
  },
  {
   "cell_type": "code",
   "execution_count": 18,
   "metadata": {},
   "outputs": [],
   "source": [
    "#Now I am confident these names match I will update the FPL table with the Understat name\n",
    "\n",
    "for match in single_matches_1:\n",
    "    old_name, new_name = match\n",
    "    df_full_FPL_test['player_name'] = df_full_FPL_test['player_name'].str.replace(old_name, new_name)"
   ]
  },
  {
   "cell_type": "code",
   "execution_count": 20,
   "metadata": {},
   "outputs": [],
   "source": [
    "#Now for the the names that are matching more than once. I need to export and run a manual check.\n",
    "#There are 41\n",
    "\n",
    "# Convert the list of tuples to a Pandas DataFrame\n",
    "df_double_matches_1 = pd.DataFrame(double_matches_1, columns=[\"FPL Name\", \"Understat Name\"])\n",
    "\n",
    "# Export the DataFrame to a CSV file\n",
    "df_double_matches_1.to_csv(\"df_double_matches_1.csv\", index=False)"
   ]
  },
  {
   "cell_type": "code",
   "execution_count": 27,
   "metadata": {},
   "outputs": [],
   "source": [
    "#On a sense check only 1 name gives an issue 'Emerson Palmieri dos Santos', 'Emerson'\n",
    "# The Emerson in question is the player with id 1245 so I will edit the name in Understat and run again.\n",
    "df_all_test.loc[df_all_test['player_id'] == 1245, 'player_name'] = 'emerson palmieri dos santos'"
   ]
  },
  {
   "cell_type": "code",
   "execution_count": 24,
   "metadata": {},
   "outputs": [],
   "source": [
    "#After manually checking list, import the correct list and update FPL list of names\n",
    "\n",
    "df_double_matches_1_corrected = pd.read_csv('/Users/jon/Documents/fpl_points_prediction/df_double_matches_1_corrected.csv', delimiter=\";\", index_col=False)\n",
    "df_double_matches_1_corrected = list(df_double_matches_1_corrected.to_records(index=False))\n",
    "for match in df_double_matches_1_corrected:\n",
    "    old_name, new_name = match\n",
    "    df_full_FPL_test['player_name'] = df_full_FPL_test['player_name'].str.replace(old_name, new_name)"
   ]
  },
  {
   "attachments": {},
   "cell_type": "markdown",
   "metadata": {},
   "source": [
    "2. names_only_in_2 to names_only_in_1\n",
    "I will now run this process again the other way"
   ]
  },
  {
   "cell_type": "code",
   "execution_count": 28,
   "metadata": {},
   "outputs": [
    {
     "name": "stdout",
     "output_type": "stream",
     "text": [
      "Names only in set1: ['javier manquillo gaitan', 'moises caicedo corozo', 'mahmoud ahmed ibrahim hassan', 'vitor ferreira', 'mohamed naser el sayed elneny', 'frederico rodrigues de paula santos', 'hector junior firpo', 'oluwasemilogo adesewo ibidapo ajayi', 'lucas tolentino coelho de lima', 'tino livramento', 'mathias jorgensen', 'mateus cardoso lemos martins', 'andre-frank zambo anguissa', 'bamidele alli', 'fabio henrique tavares', 'fernando luiz rosa', 'francisco casilla cortes', 'solomon march', 'edward nketiah', 'adama traore diarra', 'hwang hee-chan', 'joseph willock', 'pelenda joshua dasilva', 'francisco femenia far', 'francisco jorge tomas oliveira', 'rayan ait-nouri', 'sergi canos tenes', 'marcus oliveira alencar', 'jonathan castro otto', 'pablo fornals malla', 'diogo teixeira da silva', 'cedric alves soares', 'miguel almiron rejala', 'emiliano martinez romero', 'heung-min son', 'jeremy sarmiento morante', 'benjamin white', 'nayef aguerd', 'alejandro garnacho ferreyra', 'matty cash', 'raphael dias belloli', 'carlos ribeiro dias', 'marc cucurella saseta', 'mathew ryan', 'alexandre moreno lopera', 'conrad egan-riley', 'david de gea quintana', 'jorge luiz frello filho', 'benjamin chilwell', 'nicolas nkoulou', 'fabio freitas gouveia carvalho', 'daniel ceballos fernandez', 'carlos henrique casimiro']\n",
      "Names only in set2: ['casemiro', 'alex moreno', 'cafu', 'jonny', 'cj egan-riley', \"nicolas n'koulou\", 'zanka', 'dani ceballos', 'mat ryan', 'valentino livramento', 'kiko casilla', 'fabinho', 'tete', 'fernandinho', 'kiko femenia', 'trezeguet', 'chiquinho', 'jorginho', 'semi ajayi', 'fred', 'franck zambo', 'lucas paqueta', 'marquinhos', 'willian jose', 'naif aguerd', 'vitinha', 'raphinha']\n"
     ]
    }
   ],
   "source": [
    "#First Update lists to account for current changes\n",
    "\n",
    "# Get the sets of names in each dataframe column\n",
    "set1 = set(df_full_FPL_test[\"player_name\"])\n",
    "set2 = set(df_all_test['player_name'])\n",
    "full_1_list = list(set1)\n",
    "full_2_list = list(set2)\n",
    "\n",
    "# Get the names that are in set1 but not in set2 and get the names that are in set2 but not in set1\n",
    "\n",
    "names_only_in_1 = list(set1 - set2)\n",
    "names_only_in_2 = list(set2 - set1)\n",
    "\n",
    "# Print the results\n",
    "print('Names only in set1:', names_only_in_1)\n",
    "print('Names only in set2:', names_only_in_2)"
   ]
  },
  {
   "cell_type": "code",
   "execution_count": 29,
   "metadata": {},
   "outputs": [
    {
     "name": "stdout",
     "output_type": "stream",
     "text": [
      "[]\n",
      "[]\n"
     ]
    }
   ],
   "source": [
    "#Again Check all matches and check if any of these matches appear more than once\n",
    "\n",
    "all_matches_2 = []\n",
    "\n",
    "# Initialize a dictionary to keep track of the number of times each name in names_only_in_2 has been matched\n",
    "match_counts_2 = defaultdict(int)\n",
    "\n",
    "# Match the names in names_only_in_1 to names in names_only_in_2\n",
    "for name1 in names_only_in_2:\n",
    "    # Find the best match in list2 using the fuzzywuzzy token set ratio\n",
    "    best_match_2 = max(names_only_in_1, key=lambda name2: fuzz.token_set_ratio(name1, name2))\n",
    "    # If the match score is above a certain threshold, consider the names to match\n",
    "    if fuzz.token_set_ratio(name1, best_match_2) > 90:\n",
    "        #Add matches to all_matches list\n",
    "        all_matches_2.append((name1, best_match_2))\n",
    "        # Increment the match count for the best match\n",
    "        match_counts_2[best_match_2] += 1\n",
    "\n",
    "# Initialize a list to store the matching names where match[i] has been matched with more than once\n",
    "double_matches_2 = []\n",
    "\n",
    "# Store the matching names where match[i] has been matched with more than once\n",
    "for name2, count in match_counts_2.items():\n",
    "    if count > 1:\n",
    "        # Find all the names in list that match the current name\n",
    "        matches_2 = [(name1, name2) for name1 in names_only_in_2 if fuzz.token_set_ratio(name1, name2) > 90]\n",
    "        # Add the matching names to the double_matches_2 list\n",
    "        double_matches_2.extend(matches_2)\n",
    "\n",
    "print(all_matches_2)\n",
    "print(double_matches_2)\n",
    "\n",
    "#Empty as expected."
   ]
  },
  {
   "attachments": {},
   "cell_type": "markdown",
   "metadata": {},
   "source": [
    "3. - names_only_in_1 to full_2_list\n",
    "\n",
    "#No need to update lists again as no further chnages made.\n"
   ]
  },
  {
   "cell_type": "code",
   "execution_count": 30,
   "metadata": {},
   "outputs": [
    {
     "name": "stdout",
     "output_type": "stream",
     "text": [
      "[('javier manquillo gaitan', 'javier manquillo'), ('moises caicedo corozo', 'moises caicedo'), ('mohamed naser el sayed elneny', 'mohamed elneny'), ('hector junior firpo', 'junior firpo'), ('adama traore diarra', 'adama traore'), ('hwang hee-chan', 'hee-chan hwang'), ('rayan ait-nouri', 'rayan ait nouri'), ('sergi canos tenes', 'sergi canos'), ('pablo fornals malla', 'pablo fornals'), ('cedric alves soares', 'cedric soares'), ('miguel almiron rejala', 'miguel almiron'), ('emiliano martinez romero', 'emiliano martinez'), ('heung-min son', 'son heung-min'), ('jeremy sarmiento morante', 'jeremy sarmiento'), ('alejandro garnacho ferreyra', 'alejandro garnacho'), ('marc cucurella saseta', 'marc cucurella'), ('david de gea quintana', 'david de gea'), ('fabio freitas gouveia carvalho', 'fabio carvalho')]\n",
      "[]\n"
     ]
    }
   ],
   "source": [
    "all_matches_3 = []\n",
    "\n",
    "# Initialize a dictionary to keep track of the number of times each name in names_only_in_1 has been matched\n",
    "match_counts_3 = defaultdict(int)\n",
    "\n",
    "# Match the names in names_only_in_1 to names in full_2_list\n",
    "for name1 in names_only_in_1:\n",
    "    # Find the best match in list2 using the fuzzywuzzy token set ratio\n",
    "    best_match_3 = max(full_2_list, key=lambda name2: fuzz.token_set_ratio(name1, name2))\n",
    "    # If the match score is above a certain threshold, consider the names to match\n",
    "    if fuzz.token_set_ratio(name1, best_match_3) > 90:\n",
    "        #Add matches to all_matches list\n",
    "        all_matches_3.append((name1, best_match_3))\n",
    "        # Increment the match count for the best match\n",
    "        match_counts_3[best_match_3] += 1\n",
    "\n",
    "# Initialize a list to store the matching names where match[i] has been matched with more than once\n",
    "double_matches_3 = []\n",
    "\n",
    "# Store the matching names where match[i] has been matched with more than once\n",
    "for name2, count in match_counts_3.items():\n",
    "    if count > 1:\n",
    "        # Find all the names in list that match the current name\n",
    "        matches_3 = [(name1, name2) for name1 in names_only_in_1 if fuzz.token_set_ratio(name1, name2) > 90]\n",
    "        # Add the matching names to the double_matches_3 list\n",
    "        double_matches_3.extend(matches_3)\n",
    "\n",
    "print(all_matches_3)\n",
    "print(double_matches_3)\n",
    "#No double matches"
   ]
  },
  {
   "cell_type": "code",
   "execution_count": 32,
   "metadata": {},
   "outputs": [],
   "source": [
    "#After sense check, everything looks ok. So I will go ahead and update the FPL list\n",
    "for match in all_matches_3:\n",
    "    old_name, new_name = match\n",
    "    df_full_FPL_test['player_name'] = df_full_FPL_test['player_name'].str.replace(old_name, new_name)"
   ]
  },
  {
   "attachments": {},
   "cell_type": "markdown",
   "metadata": {},
   "source": [
    "4. - names_only_in_2 to full_1_list"
   ]
  },
  {
   "cell_type": "code",
   "execution_count": 62,
   "metadata": {},
   "outputs": [
    {
     "name": "stdout",
     "output_type": "stream",
     "text": [
      "Names only in set1: ['mahmoud ahmed ibrahim hassan', 'vitor ferreira', 'frederico rodrigues de paula santos', 'oluwasemilogo adesewo ibidapo ajayi', 'lucas tolentino coelho de lima', 'tino livramento', 'mathias jorgensen', 'mateus cardoso lemos martins', 'andre-frank zambo anguissa', 'bamidele alli', 'fabio henrique tavares', 'fernando luiz rosa', 'francisco casilla cortes', 'solomon march', 'edward nketiah', 'joseph willock', 'pelenda joshua dasilva', 'francisco femenia far', 'francisco jorge tomas oliveira', 'marcus oliveira alencar', 'diogo teixeira da silva', 'benjamin white', 'nayef aguerd', 'matty cash', 'raphael dias belloli', 'carlos ribeiro dias', 'mathew ryan', 'alexandre moreno lopera', 'conrad egan-riley', 'jorge luiz frello filho', 'benjamin chilwell', 'nicolas nkoulou', 'daniel ceballos fernandez', 'carlos henrique casimiro']\n",
      "Names only in set2: ['casemiro', 'alex moreno', 'cafu', 'cj egan-riley', \"nicolas n'koulou\", 'zanka', 'dani ceballos', 'mat ryan', 'willian jose da silva', 'valentino livramento', 'kiko casilla', 'fabinho', 'tete', 'fernandinho', 'kiko femenia', 'trezeguet', 'chiquinho', 'jorginho', 'semi ajayi', 'fred', 'franck zambo', 'lucas paqueta', 'marquinhos', 'naif aguerd', 'vitinha', 'raphinha']\n"
     ]
    }
   ],
   "source": [
    "#First Update lists to account for current changes\n",
    "\n",
    "# Get the sets of names in each dataframe column\n",
    "set1 = set(df_full_FPL_test[\"player_name\"])\n",
    "set2 = set(df_all_test['player_name'])\n",
    "full_1_list = list(set1)\n",
    "full_2_list = list(set2)\n",
    "\n",
    "# Get the names that are in set1 but not in set2 and get the names that are in set2 but not in set1\n",
    "\n",
    "names_only_in_1 = list(set1 - set2)\n",
    "names_only_in_2 = list(set2 - set1)\n",
    "\n",
    "# Print the results\n",
    "print('Names only in set1:', names_only_in_1)\n",
    "print('Names only in set2:', names_only_in_2)"
   ]
  },
  {
   "cell_type": "code",
   "execution_count": 63,
   "metadata": {},
   "outputs": [
    {
     "name": "stdout",
     "output_type": "stream",
     "text": [
      "[('cj egan-riley', 'conrad egan-riley'), (\"nicolas n'koulou\", 'nicolas nkoulou'), ('mat ryan', 'mathew ryan'), ('willian jose da silva', 'willian'), ('valentino livramento', 'tino livramento'), ('tete', 'kenny tete'), ('naif aguerd', 'nayef aguerd')]\n",
      "[]\n"
     ]
    }
   ],
   "source": [
    "all_matches_4 = []\n",
    "\n",
    "# Initialize a dictionary to keep track of the number of times each name in names_only_in_1 has been matched\n",
    "match_counts_4 = defaultdict(int)\n",
    "\n",
    "# Match the names in names_only_in_2 to names in full_1_list\n",
    "for name1 in names_only_in_2:\n",
    "    # Find the best match in list using the fuzzywuzzy token set ratio\n",
    "    best_match_4 = max(full_1_list, key=lambda name2: fuzz.token_set_ratio(name1, name2))\n",
    "    # If the match score is above a certain threshold, consider the names to match\n",
    "    if fuzz.token_set_ratio(name1, best_match_4) > 80: #Lowering to 80 since not many were found\n",
    "        #Add matches to all_matches list\n",
    "        all_matches_4.append((name1, best_match_4))\n",
    "        # Increment the match count for the best match\n",
    "        match_counts_4[best_match_4] += 1\n",
    "\n",
    "# Initialize a list to store the matching names where match[i] has been matched with more than once\n",
    "double_matches_4 = []\n",
    "\n",
    "# Store the matching names where match[i] has been matched with more than once\n",
    "for name2, count in match_counts_4.items():\n",
    "    if count > 1:\n",
    "        # Find all the names in list that match the current name\n",
    "        matches_4 = [(name1, name2) for name1 in names_only_in_2 if fuzz.token_set_ratio(name1, name2) > 90]\n",
    "        # Add the matching names to the double_matches_4 list\n",
    "        double_matches_4.extend(matches_4)\n",
    "\n",
    "print(all_matches_4)\n",
    "print(double_matches_4)\n",
    "#Do double matches"
   ]
  },
  {
   "cell_type": "code",
   "execution_count": 64,
   "metadata": {},
   "outputs": [
    {
     "data": {
      "text/plain": [
       "[('cj egan-riley', 'conrad egan-riley'),\n",
       " (\"nicolas n'koulou\", 'nicolas nkoulou'),\n",
       " ('mat ryan', 'mathew ryan'),\n",
       " ('willian jose da silva', 'willian'),\n",
       " ('valentino livramento', 'tino livramento'),\n",
       " ('tete', 'kenny tete'),\n",
       " ('naif aguerd', 'nayef aguerd')]"
      ]
     },
     "execution_count": 64,
     "metadata": {},
     "output_type": "execute_result"
    }
   ],
   "source": [
    "all_matches_4"
   ]
  },
  {
   "cell_type": "code",
   "execution_count": 61,
   "metadata": {},
   "outputs": [],
   "source": [
    "#On a sense check only 2 names give issues\n",
    "df_all_test.loc[df_all_test['player_id'] == 2280, 'player_name'] = 'jonathan castro otto'\n",
    "df_all_test.loc[df_all_test['player_id'] == 2361, 'player_name'] = 'willian jose da silva' "
   ]
  },
  {
   "cell_type": "code",
   "execution_count": 65,
   "metadata": {},
   "outputs": [],
   "source": [
    "#After sense check, everything looks ok. So I will go ahead and update the FPL list\n",
    "for match in all_matches_4:\n",
    "    old_name, new_name = match\n",
    "    df_full_FPL_test['player_name'] = df_full_FPL_test['player_name'].str.replace(old_name, new_name)"
   ]
  },
  {
   "attachments": {},
   "cell_type": "markdown",
   "metadata": {},
   "source": [
    "5. #Now I will look at the remianing unique values to make them match"
   ]
  },
  {
   "cell_type": "code",
   "execution_count": 68,
   "metadata": {},
   "outputs": [
    {
     "name": "stdout",
     "output_type": "stream",
     "text": [
      "Names only in set1: ['mahmoud ahmed ibrahim hassan', 'vitor ferreira', 'frederico rodrigues de paula santos', 'oluwasemilogo adesewo ibidapo ajayi', 'lucas tolentino coelho de lima', 'tino livramento', 'mathias jorgensen', 'mateus cardoso lemos martins', 'andre-frank zambo anguissa', 'bamidele alli', 'fabio henrique tavares', 'fernando luiz rosa', 'francisco casilla cortes', 'solomon march', 'edward nketiah', 'joseph willock', 'pelenda joshua dasilva', 'francisco femenia far', 'francisco jorge tomas oliveira', 'marcus oliveira alencar', 'diogo teixeira da silva', 'benjamin white', 'nayef aguerd', 'matty cash', 'raphael dias belloli', 'carlos ribeiro dias', 'mathew ryan', 'alexandre moreno lopera', 'conrad egan-riley', 'jorge luiz frello filho', 'kenny kenny tete', 'benjamin chilwell', 'nicolas nkoulou', 'daniel ceballos fernandez', 'carlos henrique casimiro']\n",
      "Names only in set2: ['casemiro', 'alex moreno', 'cafu', 'cj egan-riley', \"nicolas n'koulou\", 'zanka', 'dani ceballos', 'mat ryan', 'willian jose da silva', 'valentino livramento', 'kiko casilla', 'fabinho', 'tete', 'fernandinho', 'kiko femenia', 'trezeguet', 'chiquinho', 'jorginho', 'semi ajayi', 'fred', 'franck zambo', 'lucas paqueta', 'marquinhos', 'kenny tete', 'naif aguerd', 'vitinha', 'raphinha']\n"
     ]
    }
   ],
   "source": [
    "#First Update lists to account for current changes\n",
    "\n",
    "# Get the sets of names in each dataframe column\n",
    "set1 = set(df_full_FPL_test[\"player_name\"])\n",
    "set2 = set(df_all_test['player_name'])\n",
    "full_1_list = list(set1)\n",
    "full_2_list = list(set2)\n",
    "\n",
    "# Get the names that are in set1 but not in set2 and get the names that are in set2 but not in set1\n",
    "\n",
    "names_only_in_1 = list(set1 - set2)\n",
    "names_only_in_2 = list(set2 - set1)\n",
    "\n",
    "# Print the results\n",
    "print('Names only in set1:', names_only_in_1)\n",
    "print('Names only in set2:', names_only_in_2)"
   ]
  },
  {
   "cell_type": "code",
   "execution_count": 69,
   "metadata": {},
   "outputs": [],
   "source": [
    "#I need to export the first and run a manual check.\n",
    "\n",
    "# Convert the list of tuples to a Pandas Series\n",
    "df_unique_values_5 = pd.DataFrame(names_only_in_1, columns=[\"FPL Name\"])\n",
    "\n",
    "# Export the DataFrame to a CSV file\n",
    "df_unique_values_5.to_csv(\"df_unique_values_5.csv\", index=False)"
   ]
  },
  {
   "cell_type": "code",
   "execution_count": 73,
   "metadata": {},
   "outputs": [],
   "source": [
    "#After manually checking list, import the correct list and update FPL list of names\n",
    "\n",
    "df_df_unique_values_5_corrrected = pd.read_csv('/Users/jon/Documents/fpl_points_prediction/df_unique_values_5_corrrected.csv', delimiter=\";\", index_col=False)\n",
    "df_df_unique_values_5_corrrected = list(df_df_unique_values_5_corrrected.to_records(index=False))\n",
    "for match in df_df_unique_values_5_corrrected:\n",
    "    old_name, new_name = match\n",
    "    df_full_FPL_test['player_name'] = df_full_FPL_test['player_name'].str.replace(old_name, new_name)"
   ]
  },
  {
   "attachments": {},
   "cell_type": "markdown",
   "metadata": {},
   "source": [
    "6. #Now I will look at the remianing unique values to make them match"
   ]
  },
  {
   "cell_type": "code",
   "execution_count": 87,
   "metadata": {},
   "outputs": [
    {
     "name": "stdout",
     "output_type": "stream",
     "text": [
      "Names only in set1: []\n",
      "Names only in set2: []\n"
     ]
    }
   ],
   "source": [
    "#First Update lists to account for current changes\n",
    "\n",
    "# Get the sets of names in each dataframe column\n",
    "set1 = set(df_full_FPL_test[\"player_name\"])\n",
    "set2 = set(df_all_test['player_name'])\n",
    "full_1_list = list(set1)\n",
    "full_2_list = list(set2)\n",
    "\n",
    "# Get the names that are in set1 but not in set2 and get the names that are in set2 but not in set1\n",
    "\n",
    "names_only_in_1 = list(set1 - set2)\n",
    "names_only_in_2 = list(set2 - set1)\n",
    "\n",
    "# Print the results\n",
    "print('Names only in set1:', names_only_in_1)\n",
    "print('Names only in set2:', names_only_in_2)"
   ]
  },
  {
   "cell_type": "code",
   "execution_count": 86,
   "metadata": {},
   "outputs": [],
   "source": [
    "#Replacing names tat still don't match manually\n",
    "df_full_FPL_test.loc[df_full_FPL_test['player_name'] == 'kiko femenía', 'player_name'] = 'kiko femenia'\n",
    "df_full_FPL_test.loc[df_full_FPL_test['player_name'] == \"solomon march\", 'player_name'] = 'solly march'\n",
    "df_full_FPL_test.loc[(df_full_FPL_test['team'] == 'Wolves') & (df_full_FPL_test['player_name'] == 'willian'), 'player_name'] = 'willian jose da silva'\n"
   ]
  },
  {
   "cell_type": "code",
   "execution_count": 88,
   "metadata": {},
   "outputs": [
    {
     "name": "stdout",
     "output_type": "stream",
     "text": [
      "887\n",
      "887\n"
     ]
    }
   ],
   "source": [
    "#Check that lists of names are compatible\n",
    "print(len(set(df_all_test[\"player_name\"])))\n",
    "print(len(set(df_full_FPL_test[\"player_name\"])))"
   ]
  },
  {
   "cell_type": "code",
   "execution_count": 106,
   "metadata": {},
   "outputs": [
    {
     "name": "stdout",
     "output_type": "stream",
     "text": [
      "Stored 'df_all_test' (DataFrame)\n",
      "Stored 'df_full_FPL_test' (DataFrame)\n"
     ]
    }
   ],
   "source": [
    "%store df_all_test\n",
    "%store df_full_FPL_test"
   ]
  }
 ],
 "metadata": {
  "kernelspec": {
   "display_name": "base",
   "language": "python",
   "name": "python3"
  },
  "language_info": {
   "codemirror_mode": {
    "name": "ipython",
    "version": 3
   },
   "file_extension": ".py",
   "mimetype": "text/x-python",
   "name": "python",
   "nbconvert_exporter": "python",
   "pygments_lexer": "ipython3",
   "version": "3.9.13"
  },
  "orig_nbformat": 4
 },
 "nbformat": 4,
 "nbformat_minor": 2
}

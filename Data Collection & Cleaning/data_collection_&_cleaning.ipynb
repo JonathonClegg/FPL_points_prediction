{
  "cells": [
    {
      "cell_type": "code",
      "execution_count": 2,
      "metadata": {},
      "outputs": [],
      "source": [
        "#Libraries\n",
        "\n",
        "import pandas as pd\n",
        "import numpy as np\n",
        "import requests\n",
        "from bs4 import BeautifulSoup\n",
        "import json\n",
        "import requests, bs4, os, sys\n",
        "from unidecode import unidecode\n",
        "from fuzzywuzzy import fuzz\n",
        "from pprint import pprint\n",
        "%store -r\n",
        "\n",
        "\n",
        "\n"
      ]
    },
    {
      "cell_type": "code",
      "execution_count": 5,
      "metadata": {},
      "outputs": [],
      "source": [
        "############################\n",
        "#####SOURCE 1: FPL DATA#####\n",
        "############################\n",
        "\n",
        "#Data Source: https://github.com/vaastav/Fantasy-Premier-League\n",
        "#Originally collected using FPL player API - https://fantasy.premierleague.com/api/event/{GW}/live/\n",
        "#Licence: MIT\n",
        "#Data description: game week data at the player level for the past 7 premier league seasons\n",
        "\n",
        "df_fpl_22 = pd.read_csv('https://raw.githubusercontent.com/vaastav/Fantasy-Premier-League/master/data/2022-23/gws/merged_gw.csv')\n",
        "df_fpl_21 = pd.read_csv('https://raw.githubusercontent.com/vaastav/Fantasy-Premier-League/master/data/2021-22/gws/merged_gw.csv')\n",
        "df_fpl_20 = pd.read_csv('https://raw.githubusercontent.com/vaastav/Fantasy-Premier-League/master/data/2020-21/gws/merged_gw.csv')\n"
      ]
    },
    {
      "cell_type": "code",
      "execution_count": 6,
      "metadata": {},
      "outputs": [
        {
          "name": "stdout",
          "output_type": "stream",
          "text": [
            "Columns that don't appear in all dataframes:\n",
            "\n",
            "['expected_assists', 'expected_goal_involvements', 'expected_goals', 'expected_goals_conceded', 'starts', 'GW']\n"
          ]
        }
      ],
      "source": [
        "#Join tables\n",
        "df_full_FPL = pd.concat([df_fpl_22, df_fpl_21, df_fpl_20],sort=False, ignore_index=True)\n",
        "\n",
        "#Checking to see if features are the same across all seasons:\n",
        "missing_values = df_full_FPL.isnull().sum()\n",
        "columns_with_missing_values = missing_values[missing_values > 0].index.tolist()\n",
        "print(\"Columns that don't appear in all dataframes:\\n\")\n",
        "print(columns_with_missing_values)\n"
      ]
    },
    {
      "cell_type": "code",
      "execution_count": 7,
      "metadata": {},
      "outputs": [],
      "source": [
        "df_full_FPL = df_full_FPL.drop(columns=['expected_assists', 'expected_goal_involvements', 'expected_goals', 'expected_goals_conceded', 'starts', 'GW'])"
      ]
    },
    {
      "cell_type": "code",
      "execution_count": 9,
      "metadata": {},
      "outputs": [],
      "source": [
        "df_full_FPL.isnull().sum()\n",
        "df_full_FPL.dtypes\n",
        "df_full_FPL[['name']]= df_full_FPL[['name']].astype(str)\n",
        "df_full_FPL.rename(columns={'name': 'player_name'}, inplace=True)\n",
        "\n"
      ]
    },
    {
      "cell_type": "code",
      "execution_count": 10,
      "metadata": {},
      "outputs": [],
      "source": [
        "#Just select players that have played more than 0 minutes\n",
        "df_full_FPL = df_full_FPL.loc[(df_full_FPL[\"minutes\"] > 0)]\n",
        "\n"
      ]
    },
    {
      "cell_type": "code",
      "execution_count": 55,
      "metadata": {},
      "outputs": [],
      "source": [
        "#Cleaning names#\n",
        "\n",
        "df_full_FPL['player_name'] = df_full_FPL['player_name'].str.replace('_', ' ')\n",
        "df_full_FPL['player_name'] = df_full_FPL['player_name'].apply(lambda x: unidecode(x))\n",
        "df_full_FPL['player_name'] = df_full_FPL['player_name'].replace(to_replace=r'\\d+', value='', regex=True)\n",
        "df_full_FPL['player_name'] = df_full_FPL['player_name'].replace('-', ' ')\n",
        "df_full_FPL['player_name'] = df_full_FPL['player_name'].str.strip()\n",
        "df_full_FPL['player_name'] = df_full_FPL['player_name'].str.lower()\n",
        "\n"
      ]
    },
    {
      "cell_type": "code",
      "execution_count": 56,
      "metadata": {},
      "outputs": [
        {
          "data": {
            "text/plain": [
              "(28644, 35)"
            ]
          },
          "execution_count": 56,
          "metadata": {},
          "output_type": "execute_result"
        }
      ],
      "source": [
        "#check shape\n",
        "df_full_FPL.shape"
      ]
    },
    {
      "cell_type": "code",
      "execution_count": 57,
      "metadata": {},
      "outputs": [
        {
          "data": {
            "text/plain": [
              "928"
            ]
          },
          "execution_count": 57,
          "metadata": {},
          "output_type": "execute_result"
        }
      ],
      "source": [
        "df_EPL_names = df_full_FPL[\"player_name\"].unique()\n",
        "len(df_EPL_names)"
      ]
    },
    {
      "cell_type": "code",
      "execution_count": null,
      "metadata": {},
      "outputs": [],
      "source": [
        "#Convert date time to date\n",
        "df_full_FPL[\"kickoff_time\"]\n",
        "\n",
        "# Split datetime column into date and time columns\n",
        "df_full_FPL[['date', 'time']] = df_full_FPL['kickoff_time'].str.split('T', expand=True)\n",
        "# Drop the time column\n",
        "df_full_FPL = df_full_FPL.drop('time', axis=1)\n",
        "df_full_FPL = df_full_FPL.drop('kickoff_time', axis=1)\n",
        "\n",
        "# Show the resulting DataFrame\n",
        "df_full_FPL[\"date\"]"
      ]
    },
    {
      "attachments": {},
      "cell_type": "markdown",
      "metadata": {},
      "source": [
        "##################\n",
        "#####UNDERSTAT####\n",
        "##################\n",
        "\n",
        "#Data Source: https://understat.com/ (Webscrapping)\n",
        "#Licence: NA - Data publically available and free to use.\n",
        "#Data description: game week data at the player level and team level for the past 7 premier league seasons \n"
      ]
    },
    {
      "cell_type": "code",
      "execution_count": 43,
      "metadata": {},
      "outputs": [
        {
          "data": {
            "text/plain": [
              "887"
            ]
          },
          "execution_count": 43,
          "metadata": {},
          "output_type": "execute_result"
        }
      ],
      "source": [
        "##################\n",
        "####PLAYER IDS####\n",
        "##################\n",
        "\n",
        "# create url for all EPL in 2022/2023 season\n",
        "base_url = 'https://understat.com/league'\n",
        "league = 'EPL'\n",
        "seasons = [\"2022\", \"2021\", \"2020\"]\n",
        "ids = []\n",
        "\n",
        "for i in seasons:  \n",
        "    url = base_url+'/'+league+'/'+i\n",
        "    res = requests.get(url)\n",
        "    soup = BeautifulSoup(res.content, \"lxml\")\n",
        "\n",
        "    # Player Data listed under the <script> tags\n",
        "    scripts = soup.find_all('script')\n",
        "    string_with_json_obj = ''\n",
        "\n",
        "    # Find data for playerrs\n",
        "    for el in scripts:\n",
        "        if 'playersData' in el.text:\n",
        "            string_with_json_obj = el.text.strip()\n",
        "\n",
        "\n",
        "    # print(string_with_json_obj)\n",
        "\n",
        "    # strip unnecessary symbols and get only JSON data\n",
        "    ind_start = string_with_json_obj.index(\"('\")+2\n",
        "    ind_end = string_with_json_obj.index(\"')\")\n",
        "    json_data = string_with_json_obj[ind_start:ind_end]\n",
        "\n",
        "    json_data = json_data.encode('utf8').decode('unicode_escape')\n",
        "\n",
        "    # convert JSON data into Python dictionary\n",
        "    data = json.loads(json_data)\n",
        "\n",
        "    for item in data:\n",
        "        ids.append(item['id'])\n",
        "\n",
        "ids = set(ids) #To make them unique\n",
        "ids = list(ids) #Then back to a list to make it scriptable\n",
        "len(ids)"
      ]
    },
    {
      "cell_type": "code",
      "execution_count": 44,
      "metadata": {},
      "outputs": [
        {
          "name": "stdout",
          "output_type": "stream",
          "text": [
            "['482', '10072', '8180', '7240', '585', '2245', '1621', '5553', '986', '775', '3298', '593', '6088', '3729', '8865', '725', '978', '5646', '10004', '1711', '7701', '7698', '592', '885', '966', '11208', '647', '7322', '486', '695', '7007', '8965', '2199', '790', '7891', '11000', '7700', '10761', '644', '594', '9287', '3697', '11007', '9284', '10001', '10864', '6859', '5043', '5191', '8222', '3294', '5989', '1750', '9499', '6108', '1389', '770', '5603', '9746', '6062', '11094', '2251', '951', '528', '835', '2496', '6310', '749', '1013', '6523', '7707', '8723', '87', '638', '2498', '1747', '2383', '453', '759', '6163', '9676', '9332', '6050', '6857', '6840', '789', '876', '2266', '8966', '5220', '1801', '6834', '702', '618', '1828', '2164', '844', '181', '4490', '10866', '699', '6888', '8992', '6418', '7153', '8582', '3683', '10405', '7990', '3231', '10757', '2310', '9912', '6756', '7338', '500', '7991', '842', '6893', '2385', '5232', '8045', '1776', '646', '11359', '9735', '750', '8864', '3491', '8430', '10744', '6835', '730', '6369', '839', '10168', '8719', '8300', '9274', '5569', '8845', '762', '6249', '8646', '767', '753', '8940', '11357', '7582', '7218', '1250', '2190', '1488', '9250', '780', '727', '741', '6147', '7280', '7420', '458', '11268', '6144', '6049', '6083', '6532', '10764', '6231', '6490', '1653', '8235', '535', '10802', '485', '11155', '4764', '8239', '8704', '5956', '7298', '3585', '9423', '3468', '6051', '6817', '9324', '11231', '2243', '5274', '9156', '7184', '7722', '935', '7753', '773', '7295', '875', '492', '463', '7490', '7326', '5543', '2381', '8758', '1675', '2335', '8272', '9683', '641', '785', '589', '6080', '10290', '1791', '8706', '645', '971', '5556', '7603', '9677', '5086', '6736', '111', '9415', '1689', '10126', '3303', '3389', '1053', '531', '7352', '6252', '7365', '5735', '6456', '9154', '76', '6434', '6932', '9099', '1683', '512', '2371', '9501', '6552', '6892', '2280', '11193', '1738', '8482', '5656', '596', '8040', '553', '6856', '5552', '9689', '669', '708', '11384', '1760', '9220', '8961', '522', '9540', '9205', '2328', '7702', '10740', '887', '9915', '5587', '987', '714', '7083', '11078', '1677', '8026', '5613', '10292', '6542', '9738', '7699', '10536', '11295', '9916', '7721', '9453', '8214', '10741', '9512', '9290', '530', '7281', '6875', '6837', '561', '587', '9086', '6104', '508', '314', '1441', '1679', '10036', '6850', '1257', '7052', '10348', '6067', '7187', '10845', '447', '6326', '9219', '1736', '10765', '6665', '9040', '813', '10720', '484', '1688', '6854', '8228', '62', '10742', '748', '10755', '6923', '7080', '10027', '1545', '8905', '5562', '11356', '5602', '1748', '5256', '706', '4391', '7708', '10166', '10752', '2249', '6880', '6253', '7988', '3387', '3422', '9690', '713', '8497', '1017', '802', '11034', '8179', '11058', '1687', '6314', '342', '1699', '6822', '1735', '2182', '8859', '8722', '661', '9222', '3420', '9493', '10759', '1304', '902', '468', '5596', '6674', '6818', '6063', '8720', '668', '8021', '7198', '9687', '8458', '9311', '7921', '8224', '1740', '525', '7814', '11132', '8721', '6843', '675', '6615', '5050', '6521', '1299', '10716', '10997', '11003', '7695', '101', '5609', '8562', '7134', '8918', '7589', '1078', '6947', '5786', '2674', '7689', '11298', '1025', '3293', '10141', '10807', '540', '6630', '6986', '204', '852', '9021', '983', '10293', '8016', '4476', '7768', '9509', '7438', '200', '7081', '3621', '7376', '5962', '11242', '825', '10756', '6492', '10805', '619', '688', '8089', '6954', '8716', '3696', '6852', '9685', '534', '10750', '5612', '579', '8119', '3304', '606', '6382', '8934', '7690', '8384', '462', '7752', '502', '9740', '5568', '2517', '1123', '5061', '6851', '574', '831', '10140', '537', '10743', '11366', '769', '5595', '10751', '5221', '8323', '2248', '545', '624', '8511', '11233', '4866', '6482', '8327', '838', '8075', '1228', '9957', '1822', '7366', '7077', '11297', '8260', '6891', '11363', '8756', '6681', '985', '9678', '1746', '8109', '6842', '6504', '1789', '10723', '9662', '5545', '6651', '7390', '3203', '9682', '884', '8715', '10525', '2259', '527', '3600', '2361', '745', '8090', '755', '8718', '496', '7904', '7430', '1663', '1234', '8379', '7383', '489', '9558', '857', '2446', '807', '9257', '11284', '743', '7332', '9681', '772', '6853', '703', '689', '910', '4475', '900', '672', '5247', '8066', '6042', '6500', '1245', '503', '751', '4918', '1823', '5560', '1691', '11296', '7384', '7712', '5675', '712', '9686', '7710', '5584', '6894', '1654', '8942', '2163', '7703', '9307', '488', '9163', '11317', '239', '2662', '9667', '9741', '6026', '7069', '7704', '6377', '639', '1042', '998', '633', '6274', '7459', '532', '9630', '8288', '9710', '10118', '7705', '848', '10718', '10865', '7693', '7395', '556', '1785', '766', '9470', '9745', '10092', '10760', '9679', '1739', '9492', '10698', '10745', '4381', '11360', '1537', '771', '11232', '5555', '7236', '7817', '856', '8017', '9339', '2254', '7230', '8757', '4401', '8777', '5681', '782', '7166', '10424', '10758', '8919', '5973', '922', '2958', '7892', '10749', '5619', '10753', '9700', '1208', '6030', '1032', '1726', '5789', '1685', '7931', '8127', '8226', '7239', '10847', '1376', '10203', '833', '822', '5248', '7724', '10177', '3288', '9739', '7726', '8285', '6055', '7546', '229', '554', '7706', '4422', '9209', '8868', '10327', '10091', '10174', '573', '9524', '6451', '964', '10172', '7983', '5712', '9933', '6122', '10719', '10291', '8941', '3979', '1737', '461', '8351', '9249', '8816', '9691', '9461', '9684', '8493', '10846', '8635', '660', '11305', '5648', '7714', '9406', '7709', '11362', '8852', '982', '6827', '9914', '10804', '9554', '9256', '7470', '847', '7823', '7382', '6276', '694', '7063', '11035', '6477', '6849', '1084', '700', '65', '843', '1665', '332', '6962', '465', '1006', '2379', '637', '635', '549', '682', '803', '3278', '10408', '8812', '5708', '9098', '10216', '9301', '7691', '533', '6935', '6350', '6345', '8150', '581', '1678', '4456', '9948', '6691', '1652', '8778', '10746', '9747', '934', '10061', '6162', '8456', '9833', '603', '10552', '8158', '9552', '501', '804', '8291', '2203', '4419', '8821', '6996', '7278', '6034', '558', '6054', '1707', '7696', '6048', '10806', '3635', '7078', '6044', '5264', '1749', '6912', '757', '343', '853', '9734', '318', '8544', '8717', '9748', '8476', '11378', '6441', '8380', '8970', '9356', '6538', '8481', '6656', '8227', '6841', '643', '10809', '697', '1142', '7688', '5136', '8666', '9892', '5590', '6485', '509', '9395', '631', '7723', '473', '6047', '510', '6273', '6157', '8780', '10715', '620', '6937', '10097', '605', '5549', '9557', '888', '5682', '9680', '10150', '5245', '586', '652', '6027', '1014', '10803', '614', '8366', '9082', '11174', '7711', '3277', '8067', '9733', '1682', '1719', '6329', '1725', '9359', '10028', '546', '6424', '710', '8566', '11367', '8020', '448', '5360', '8286', '4105', '1379', '3428', '1024', '7282', '5544', '1297', '681', '10766', '1676', '4120', '7235', '8204']\n"
          ]
        }
      ],
      "source": [
        "print(ids)"
      ]
    },
    {
      "cell_type": "code",
      "execution_count": 45,
      "metadata": {},
      "outputs": [
        {
          "data": {
            "text/plain": [
              "887"
            ]
          },
          "execution_count": 45,
          "metadata": {},
          "output_type": "execute_result"
        }
      ],
      "source": [
        "#Get player name in a list\n",
        "\n",
        "# create urls for each individual player\n",
        "base_url = 'https://understat.com/player'\n",
        "players = ids\n",
        "\n",
        "# Iterate through all 887 player ids\n",
        "ids=list(map(int, ids))\n",
        "list_names=[]\n",
        "for i in range(len(ids)):\n",
        "    url = base_url+'/'+str(players[i])\n",
        "    html = requests.get(url).text\n",
        "    soup = BeautifulSoup(html, \"html.parser\")\n",
        "    player_name = soup.find_all('div', class_=\"header-wrapper\")\n",
        "    for name in player_name:\n",
        "        list_names.append((name.text.strip()))\n",
        "\n",
        "len(list_names) #Check length is the same as before"
      ]
    },
    {
      "cell_type": "code",
      "execution_count": 46,
      "metadata": {},
      "outputs": [
        {
          "name": "stdout",
          "output_type": "stream",
          "text": [
            "['Roberto Firmino', 'Samuel Edozie', 'Owen Otasowie', 'Benoit Badiashile Mukinayi', 'Seamus Coleman', 'Raphael Varane', 'Marcos Alonso', 'Declan Rice', 'Danny Ings', 'Andros Townsend', 'Layvin Kurzawa', 'Aaron Lennon', 'Orel Mangala', 'Hassane Kamara', 'Ollie Watkins', 'Ola Aina', 'Sam Johnstone', 'Cafú', 'Romeo Lavia', 'Adam Forshaw', 'Moussa Djenepo', 'Leandro Trossard', 'Ross Barkley', 'Kyle Walker-Peters', 'Alex Oxlade-Chamberlain', 'Mateo Joseph', 'Harry Kane', 'Bukayo Saka', 'Adam Lallana', 'Bertrand Traoré', 'Duje Caleta-Car', 'Vladimir Coufal', 'Pablo Sarabia', 'Nathan Redmond', 'Renan Lodi', 'Matheus Nunes', 'Che Adams', 'Alex Mighten', 'Erik Lamela', 'Romelu Lukaku', 'Tyler Onyango', 'Odsonne Edouard', 'Fábio Vieira', 'Jakub Moder', 'Stuart McKinstry', 'Marcos Senesi', 'Kortney Hause', 'Kiko Femenía', 'Álvaro Fernández', 'Japhet Tanganga', 'Edinson Cavani', 'Moussa Niakhate', 'Ainsley Maitland-Niles', 'Cody Drameh', 'Rodrigo Bentancur', 'Jorginho', 'Ayoze Pérez', 'Aaron Ramsdale', 'Christos Tzolis', 'Isaac Hayden', 'Antony', 'Gareth Bale', 'Phil Jones', 'Angelo Ogbonna', 'Ryan Bertrand', 'Rodri', 'Boubakary Soumare', 'Christian Fuchs', 'Sam Field', 'Milot Rashica', 'Enda Stevens', 'Ian Poveda-Ocampo', 'Joelinton', 'Kyle Walker', 'Aymeric Laporte', 'Kevin Long', 'André Gomes', 'Son Heung-Min', 'Daniel Amartey', 'Nélson Semedo', 'David Raya', 'Dane Scarlett', 'Davy Pröpper', 'Morgan Gibbs-White', 'Neeskens Kebano', 'Robbie Brady', 'Fabian Delph', 'Saúl Ñíguez', 'Filip Krovinovic', 'Kai Havertz', 'Pontus Jansson', 'Joe Bryan', 'Tammy Abraham', 'Raheem Sterling', 'Alex Telles', 'Pablo Hernández', 'Jay Rodriguez', 'Bernd Leno', 'Semi Ajayi', 'Luis Sinisterra', 'Gary Cahill', 'William Saliba', 'Hakim Ziyech', 'Hamza Choudhury', 'Matheus Pereira', 'Ellis Simms', 'Ivan Cavaleiro', 'Josh Dasilva', 'Christoph Zimmermann', 'Kamil Grosicki', 'Scott McKenna', 'Alphonse Areola', 'Cameron Archer', 'Dwight McNeil', 'Bryan Gil Salvatierra', 'Alex Iwobi', 'Aaron Connolly', 'Oriol Romeu', 'Stuart Armstrong', 'Mat Ryan', 'Alexander Isak', 'Eric Garcia', 'Jarrod Bowen', 'Christian Eriksen', 'James Bree', 'Taylor Richards', 'Riyad Mahrez', 'Matthew Cash', 'Romain Saiss', 'Chris Richards', 'Ryan Christie', 'Tom Cairney', 'Patrick van Aanholt', 'Ethan Ampadu', 'Shane Long', 'Lewis Brunt', 'Kalvin Phillips', 'Steven Bergwijn', 'Naouirou Ahamada', 'Rhian Brewster', 'Hee-Chan Hwang', 'Demarai Gray', 'Davinson Sánchez', 'Wout Faes', 'Jack Colback', 'Marc Albrighton', 'Antonee Robinson', 'Noni Madueke', 'Mark Travers', 'Cristian Romero', 'Mohamed Salah', 'Vicente Guaita', 'Remo Freuler', 'Reda Khadra', 'Karl Darlow', 'DeAndre Yedlin', 'Jordan Pickford', 'Denis Zakaria', 'Yan Valery', 'Miguel Almirón', 'Steve Cook', 'David Ozoh', 'Sébastien Haller', 'Solly March', 'Ludwig Augustinsson', 'Martin Dubravka', 'Djed Spence', 'José Izquierdo', 'Manuel Akanji', 'Michael Keane', 'Jeremy Ngakia', 'Manuel Lanzini', 'Lisandro Martínez', 'Mamadou Sakho', 'Wilfried Gnonto', 'Jean-Philippe Gbamin', 'Takumi Minamino', 'Marek Rodák', 'Youri Tielemans', 'Ben White', 'Said Benrahma', 'Gaetano Berardi', 'Jonas Lössl', 'Dale Stephens', 'Fred', 'Facundo Pellistri', 'Ben Doak', 'Keylor Navas', 'Michael Hector', 'Kevin Schade', 'Tim Ream', 'Trézéguet', 'Kurt Zouma', 'James Justin', 'Aleksandar Mitrovic', 'Joshua Sargent', 'Ciaran Clark', 'Héctor Bellerín', 'Junior Stanislas', 'Mason Greenwood', 'Kayne Ramsay', 'Gabriel Jesus', 'Rodrigo', 'Kyle Edwards', 'Ashley Fletcher', 'Pablo Fornals', 'João Pedro', 'Mads Bech Sørensen', 'Danny Rose', 'John Ruddy', 'James McCarthy', 'Victor Lindelöf', 'Edo Kayembe', 'Trent Alexander-Arnold', 'Eberechi Eze', 'Dele Alli', 'Harry Winks', 'Ademola Lookman', 'Marc Guehi', 'Kristoffer Ajer', 'Marc Roca', 'Ibrahima Diallo', 'Jannik Vestergaard', 'Jaden Philogene-Bidace', 'Jake Livermore', 'James McAtee', 'Ricardo Pereira', 'Benjamin Mendy', 'Keinan Davis', 'Michail Antonio', 'Tyler Adams', 'Lyanco', 'Lucas Paquetá', 'Jean-Philippe Mateta', 'Callum Hudson-Odoi', 'Elliot Anderson', 'Fabian Schär', 'Franck Zambo', 'Okay Yokuslu', 'Andi Zeqiri', 'Ryan Fraser', 'Scott Dann', 'Cristiano Ronaldo', 'Fabio Carvalho', 'Bryan Mbeumo', 'Fabián Balbuena', 'Jonny', 'Andrew Moran', 'Hal Robson-Kanu', 'Bailey Peacock-Farrell', 'Nicolas Pepe', 'Tom Cleverley', 'Marvelous Nakamba', 'Anthony Martial', 'Rúben Vinagre', 'Nick Pope', 'Albert Sambi Lokonga', 'Ashley Westwood', 'Federico Fernández', 'João Gomes', 'Arthur Masuaku', 'Charlie Cresswell', 'Rúben Dias', 'Wilfried Zaha', 'Femi Seriki', 'Jayden Bogle', 'Thomas Partey', 'Dean Henderson', 'Jordan Zemura', 'Erik Pieters', 'Dominic Thompson', 'Josh Maja', 'Joseph Gomez', 'Gylfi Sigurdsson', 'Christian Nørgaard', 'Juan Larios', 'Nathaniel Chalobah', 'Raphinha', 'Gabriel', 'Nathan Patterson', 'Jürgen Locadia', 'Patson Daka', 'Adam Webster', 'Tetê', 'David Datro Fofana', 'Finley Stevens', 'Conor Hourihane', 'Moisés Caicedo', 'Tyrick Mitchell', 'Marcus Tavernier', 'Valentino Livramento', 'Mbaye Diagne', 'James Tomkins', 'Diogo Dalot', 'Rúnar Alex Rúnarsson', 'Ryan Sessegnon', 'Joe Rothwell', 'Phil Jagielka', 'Rhys Williams', 'Will Hughes', 'Calum Chambers', 'Ilkay Gündogan', 'Adam Masina', 'Dominic Solanke', 'Jeremy Sarmiento', 'Willy Boly', 'Alisson', 'Wout Weghorst', 'Omari Hutchinson', 'Terence Kongolo', 'Sergio Reguilón', 'Flynn Downes', 'Kevin De Bruyne', 'Ibrahima Konaté', 'Niall Huggins', 'Oliver McBurnie', 'Gavin Bazunu', 'Curtis Jones', 'Conor Gallagher', 'Salomón Rondón', 'Darwin Núñez', 'Divock Origi', 'Andrew Robertson', 'Diogo Jota', 'Nathaniel Phillips', 'Lukas Rupp', 'Ben Pearson', 'Wes Morgan', 'Joseph Hodge', 'Mohammed Salisu', 'Matheus Cunha', 'Lewis Dobbin', 'Emil Krafth', 'Conor Townsend', 'Rekeem Harper', 'Enzo Fernández', 'Sam Surridge', 'Lys Mousset', 'Oliver Burke', 'Lukasz Fabianski', 'Darnell Furlong', 'John Lundstram', 'Kasey McAteer', 'Darko Gyabi', 'James Rodríguez', 'Edouard Mendy', 'Gianluca Scamacca', 'Billy Gilmour', \"Nicolas N'Koulou\", 'João Moutinho', 'Folarin Balogun', 'André Ayew', 'Cole Palmer', 'Matej Vydra', 'Diego Costa', 'Owen Bevan', 'Luke Cundle', 'Julio Enciso', 'Harry Maguire', 'Joachim Andersen', 'Sead Kolasinac', 'Shkodran Mustafi', 'Lee Peltier', 'Jack Stephens', 'Jefferson Lerma', 'Mikkel Damsgaard', 'Ezgjan Alioski', 'Josh Onomah', 'Antwoine Hackford', 'Fabinho', 'Sam Greenwood', \"Lewis O'Brien\", 'Moise Kean', 'Sam Byram', 'Callum Wilson', 'Harry Wilson', 'Rayan Ait Nouri', 'James Maddison', 'Jacob Murphy', 'Jack Harrison', 'Idrissa Gueye', 'Adam Idah', 'Oliver Skipp', 'Charlie Goode', 'Harvey White', 'Thakgalo Leshabela', 'Felipe', 'William Smallbone', 'Paul Pogba', 'Martin Kelly', 'Taiwo Awoniyi', 'Ethan Nwaneri', 'Jamie Shackleton', 'David Button', 'Jack Grealish', 'Trevoh Chalobah', 'Clement Lenglet', 'Yerry Mina', 'Mario Lemina', 'Manor Solomon', 'Bobby Clark', 'Ryan Yates', 'Todd Cantwell', 'Allan Saint-Maximin', 'Yves Bissouma', 'Luke Thomas', 'Marc Cucurella', 'Max Lowe', 'Wesley Fofana', 'Sergi Canos', 'Samuel Kalu', 'Yoane Wissa', 'Thilo Kehrer', 'Ben Godfrey', 'Mislav Orsic', 'Daniel Bachmann', 'Lucas Moura', 'Sonny Perkins', 'Jan Paul van Hecke', 'Darren Randolph', 'Joe Willock', 'Hamed Junior Traore', 'Granit Xhaka', 'Freddie Woodman', 'Pape Sarr', 'Kevin Mbabu', 'Toti', 'Matthew Longstaff', 'Callum Robinson', 'Mason Mount', 'Daniel Jebbison', 'James Garner', 'Andreas Christensen', 'Francisco Sierralta', 'Neal Maupay', 'Ozan Kabak', 'Tanguy NDombele Alvaro', 'Divin Mubama', 'Adam Smith', 'Joe Worrall', 'Reiss Nelson', 'Levi Colwill', 'Sergio Agüero', 'Ruben Loftus-Cheek', 'Kieran Tierney', 'Juan Camilo Hernández', 'Luke Ayling', 'Morgan Sanson', 'Matt Doherty', 'Mads Roerslev', 'Aaron Cresswell', 'Rasmus Kristensen', 'Anwar El Ghazi', 'Nathan Aké', 'Boubacar Traore', 'Maxime Le Marchand', 'Christian Benteke', 'Pedro Neto', 'Trincão', 'Grant Hanley', 'Armando Broja', 'Dan Gosling', 'Gabriel Martinelli', 'Olivier Giroud', 'José Sá', 'Connor Roberts', 'Martin Odegaard', 'Juraj Kucka', 'Kepa', 'Conor Coady', 'Troy Deeney', 'Fraser Forster', 'Hugo Bueno', 'Andy Carroll', 'Kieffer Moore', 'Jhon Durán', 'Jonjo Shelvey', 'Daniel James', 'Brenden Aaronson', 'Leon Bailey', 'Josh Brownhill', 'Casemiro', 'Kieran Gibbs', 'Willy Caballero', 'Alexandre Jankewitz', 'Dexter Lembikisa', 'Aboubakar Kamara', 'Eddie Nketiah', 'Bruno Guimarães', 'Sadio Mané', 'Brandon Williams', 'Bruno Fernandes', 'Ozan Tufan', 'Antonio Rüdiger', 'Maximilian Wöber', 'Denis Odoi', 'Carlos Alcaraz', 'Erling Haaland', 'Ryan Fredericks', 'Antoine Semenyo', \"Dara O'Shea\", 'Harvey Barnes', 'Mason Holgate', 'Ethan Pinnock', 'Jeff Hendrick', 'Niels Nkounkou', 'Alireza Jahanbakhsh', 'Michael Obafemi', 'Lewis Cook', 'Stefan Bajcetic', 'Dango Ouattara', 'Wilfred Ndidi', 'Grady Diangana', 'Karlan Grant', 'Issa Diop', 'Mads Bidstrup', 'Matt Targett', 'Illan Meslier', 'Tony Springett', 'Kiko Casilla', 'Adrián', 'Serge Aurier', 'Willian José', 'Kasper Schmeichel', 'Lloyd Kelly', 'Jamie Vardy', 'Stuart Dallas', 'Mohamed Elneny', 'Caoimhin Kelleher', 'Emerson', 'Johann Berg Gudmundsson', 'Dennis Praet', 'Alexis Mac Allister', 'Josh Benson', 'James Milner', 'Hannibal Mejbri', 'Phil Bardsley', 'Dani Ceballos', 'Jonny Evans', 'Allan Tchaptchet', 'Gustavo Scarpa', 'Dwight Gayle', 'Max Kilman', 'Frank Onyeka', 'Moussa Sissoko', 'Rúben Neves', 'Fikayo Tomori', 'Kenedy', 'Harrison Reed', 'Jed Steer', 'Adama Traoré', 'Jordan Ayew', 'Naby Keita', 'Arnaut Danjuma Groeneveld', 'Jan Bednarek', 'Romain Perraud', 'Emerson', 'Theo Walcott', \"N'Golo Kanté\", 'Patrick Cutrone', 'Lucas Digne', 'Scott McTominay', 'Robert Snodgrass', 'Cody Gakpo', 'Chris Mepham', 'Billy Sharp', 'Ismaila Sarr', 'Jack Cork', 'Halil Dervisoglu', 'Oliver Norwood', 'Aaron Wan-Bissaka', 'Mohamed Elyounoussi', 'Ben Mee', 'Aaron Hickey', 'Diego Llorente', 'John Egan', 'Iliman Ndiaye', 'Philippe Coutinho', 'Kean Bryan', 'Danilo', 'Pascal Groß', 'Christian Pulisic', 'Amadou Onana', 'Chem Campbell', 'Richarlison', 'Saman Ghoddos', 'Chris Basham', 'Joe Rodon', 'Toby Alderweireld', 'Tom Davies', 'Ivan Toney', 'James McArthur', 'Andriy Yarmolenko', 'Will Norris', 'Cheikhou Kouyaté', 'Kamaldeen Sulemana', 'Tomas Soucek', 'Armel Bella Kotchap', 'Kaide Gordon', \"Jack O'Connell\", 'Charlie Austin', 'Jay Stansfield', 'Jamal Lowe', 'Kenny McLean', 'Carlos Vinicius', 'Marcus Rashford', 'Nampalys Mendy', 'Jamaal Lascelles', 'Isaac Price', 'Dimitris Giannoulis', 'Tariqe Fosu-Henry', 'Brennan Johnson', 'Rico Henry', 'Eric Bailly', 'Crysencio Summerville', 'Malcolm Ebiowei', 'Emiliano Marcondes', 'Mateusz Klich', 'Paul Onuachu', 'Sasa Lukic', 'Georginio Wijnaldum', 'Thomas Cannon', 'Dominic Calvert-Lewin', 'Leander Dendoncker', 'Zack Steffen', 'Jack Butland', 'Alex Kral', 'Joe Gelhardt', 'Mateo Kovacic', 'Emile Smith-Rowe', 'Romaine Sawyers', 'Emiliano Martinez', 'Vitinha', 'Giovani Lo Celso', 'Ben Chilwell', 'Mathias Jensen', 'Daniel Chesters', 'Harry Toffolo', 'Leif Davis', 'Kenny Tete', 'Andreas Pereira', 'Oleksandr Zinchenko', 'João Félix', 'Siriki Dembélé', 'Pierre Lees-Melou', 'Connor Ronan', 'Kristoffer Klaesson', 'Felipe Anderson', 'Zanka', 'Kieran Dowell', 'Abdoulaye Doucouré', 'Boubacar Kamara', 'Ahmed Elmohamady', 'Takehiro Tomiyasu', 'Amad Diallo Traore', 'Tariq Lamptey', 'Conor Coventry', 'Rico Lewis', 'Kalidou Koulibaly', 'Kayky', 'Virgil van Dijk', 'Patrick Bamford', 'Marcel Sabitzer', 'Wesley', 'Evan Ferguson', 'Thiago Silva', 'Kiernan Dewsbury-Hall', 'Ezri Konsa Ngoyo', 'Sander Berge', 'Phil Foden', 'Harvey Elliott', 'Thiago Alcántara', 'Juan Mata', 'George Baldock', 'Ashley Barnes', 'Theo Corbeanu', 'Liam Delap', 'Chiquinho', 'Tyler Morton', 'CJ Egan-Riley', 'Odion Ighalo', 'Anthony Elanga', 'Nathan Ferguson', 'Kyle Bartley', 'Jonathan Rowe', \"Daniel N'Lundulu\", 'Diego Carlos', 'Liam McCarron', 'Douglas Luiz', 'Luke Harris', 'Vitalii Mykolenko', 'Jacob Ramsey', 'Ahmed Hegazy', 'Matt Phillips', 'Matt Ritchie', 'Ki-Jana Hoever', 'Percy Tau', 'Liam Cooper', 'Nuno Tavares', 'Jesurun Rak-Sakyi', 'Marcus Forss', 'Jake Vokins', 'Julián Álvarez', 'Sven Botman', 'Ben Davies', 'Mykhailo Mudryk', 'Malang Sarr', 'Ben Osborn', 'Nathan Broadhead', 'John Fleck', 'Facundo Buonanotte', 'Konstantinos Tsimikas', 'Tim Krul', 'Bobby Reid', 'Shandon Baptiste', 'Deniz Undav', 'Tim Iroegbunam', 'Caleb Watts', 'Mathias Normann', 'Cédric Soares', 'Jack Stacey', 'Dan Burn', 'Nikola Vlasic', 'Asmir Begovic', 'Bernard', 'Marquinhos', 'Cenk Tosun', 'Rui Patrício', 'Jonjoe Kenny', 'Willian', 'Timo Werner', 'James Ward-Prowse', 'James Tarkowski', 'Joel Matip', 'Robin Olsen', 'Joshua King', 'Luke Shaw', 'João Cancelo', 'Hugo Lloris', 'Alex McCarthy', 'Timothy Fosu-Mensah', 'Branislav Ivanovic', 'Ben Foster', 'Maxwel Cornet', 'Luis Díaz', 'Sasa Kalajdzic', 'Fernando Marçal', 'Robert Sánchez', 'Lewis Hall', 'Emmanuel Dennis', 'Jamal Lewis', 'Mark Noble', 'Naif Aguerd', 'Jayson Molumby', 'Jadon Sancho', 'Anthony Gordon', 'Craig Cathcart', 'Michy Batshuayi', 'Chris Wood', 'Michael Olise', 'Dejan Kulusevski', 'Matthew Lowton', 'Fabio Silva', 'Jaidon Anthony', 'Bali Mumba', 'Axel Tuanzebe', 'Harrison Ashby', 'Cengiz Ünder', 'Nathan Tella', 'Andrew Omobamidele', 'Nathaniel Clyne', 'Alejandro Garnacho', 'Scott Carson', 'Tyrese Francois', 'Danny Welbeck', 'Craig Dawson', 'Daniel Podence', 'Emiliano Buendía', 'Adam Armstrong', 'Donny van de Beek', 'William Troost-Ekong', 'Imran Louza', 'Philip Billing', 'Jesse Lingard', 'Ederson', 'Ben Gibson', 'Teemu Pukki', 'Lewis Dunk', 'Kaoru Mitoma', 'Bernardo Silva', 'Sean Longstaff', 'Charlie Taylor', 'Caglar Söyüncü', 'Rob Holding', 'Pedro Porro', 'Jeffrey Schlupp', 'Pierre-Emile Højbjerg', 'Paul Dummett', 'Enock Mwepu', 'Pierre-Emerick Aubameyang', 'Lewis Bate', 'Pascal Struijk', 'Jacob Sørensen', 'Jarrad Branthwaite', 'Máximo Perrone', 'Ferrán Torres', 'Pablo Marí', 'Sékou Mara', 'Carney Chukwuemeka', 'Oghenekaro Etebo', 'Jimmy Dunne', 'Sergio Gómez', 'Oskar Buur', 'Ken Sema', 'Eric Dier', 'Keane Lewis-Potter', 'Nemanja Matic', 'Samir', 'Max Aarons', 'Estupiñán', 'Cheick Oumar Doucoure', 'Matias Viña', 'Tosin Adarabioyo', 'Júnior Firpo', 'Wayne Hennessey', 'Sidnei Tavares', 'Ashley Young', 'John McGinn', 'Danny Ward', 'Shane Duffy', 'Joel Ward', 'Robin Koch', 'Timothy Castagne', 'Joël Veltman', 'João Palhinha', 'Kelechi Iheanacho', 'Georginio Rutter', 'Przemyslaw Placheta', 'Jordan Henderson', 'Luka Milivojevic', 'William Fish', 'Xherdan Shaqiri', 'Gonçalo Guedes', 'Vitaly Janelt', 'Nathan Young-Coombes', 'Bernardo', 'John Stones', 'Kieran Trippier', 'Jairo Riedewald', 'Tyler Roberts', 'Tyrell Malacia', 'Fernandinho', 'João Virgínia', 'Lewis Richardson', 'Kobbie Mainoo', 'David McGoldrick', 'Alexandre Lacazette', 'Reece James', 'Nathan Collins', 'Islam Slimani', 'Javier Manquillo', 'Harry Souttar', 'Christian Kabasele', 'Shola Shoretire', 'Leo Fuhr Hjelde', 'David de Gea', 'Ben Johnson', 'Neil Taylor', 'Joel Mumbongo', 'Victor Kristiansen', 'Steven Alzate', 'Ivan Perisic', 'Weston McKennie', 'Jack Robinson', 'Raúl Jiménez', 'Allan', 'Hélder Costa', 'Tyrone Mings', 'Giulian Biancone', 'Angus Gunn', 'Neto', 'César Azpilicueta', 'Joe Ayodele-Aribo', 'David Luiz', 'Álex Moreno', 'Jason Steele', 'Neco Williams']\n"
          ]
        }
      ],
      "source": [
        "print(list_names)"
      ]
    },
    {
      "cell_type": "code",
      "execution_count": 47,
      "metadata": {},
      "outputs": [],
      "source": [
        "##################\n",
        "####PLAYER INFO###\n",
        "##################\n",
        "\n",
        "base_url = 'https://understat.com/player'\n",
        "players = ids\n",
        "columns = ['goals', 'shots', 'xG', 'time', 'position', 'h_team', 'a_team',\n",
        "       'h_goals', 'a_goals', 'date', 'id', 'season', 'roster_id', 'xA',\n",
        "       'assists', 'key_passes', 'npg', 'npxG', 'xGChain', 'xGBuildup',\n",
        "       'player_id', 'player_name']\n",
        "\n",
        "df_all = pd.DataFrame(columns=columns)\n",
        "for i in range(len(ids)):\n",
        "    url = base_url+'/'+str(players[i])\n",
        "    html = requests.get(url).text\n",
        "    soup = BeautifulSoup(html, \"html.parser\")\n",
        "    scripts = soup.find_all('script')\n",
        "    string_with_json_obj = ''\n",
        "\n",
        "    # Find data for teams\n",
        "    for el in scripts:\n",
        "        if 'matchesData' in el.text:\n",
        "          string_with_json_obj = el.text.strip()\n",
        "      \n",
        "    # strip unnecessary symbols and get only JSON data\n",
        "    ind_start = string_with_json_obj.index(\"('\")+2\n",
        "    ind_end = string_with_json_obj.index(\"')\")\n",
        "    json_data = string_with_json_obj[ind_start:ind_end]\n",
        "    json_data = json_data.encode('utf8').decode('unicode_escape')\n",
        "    # convert JSON data into Python dictionary\n",
        "    new_data = json.loads(json_data)\n",
        "    df_name = 'df_' + str(i)\n",
        "    df_name = pd.DataFrame(new_data)\n",
        "    df_name['player_id'] = str(ids[i])\n",
        "    df_name['player_name'] = str(list_names[i])\n",
        "    df_all = pd.concat([df_all, df_name], ignore_index=True)\n"
      ]
    },
    {
      "cell_type": "code",
      "execution_count": 49,
      "metadata": {},
      "outputs": [],
      "source": [
        "####SET COLUMN TYPES###\n",
        "df_all[['time', 'goals','shots','h_goals','a_goals','id','season','roster_id','assists','key_passes','npg','player_id']] = df_all[['time', 'goals','shots','h_goals','a_goals','id','season','roster_id','assists','key_passes','npg','player_id']].astype(int)\n",
        "df_all[['xG','xA', 'npxG', 'xGChain', 'xGBuildup']] = df_all[['xG','xA', 'npxG', 'xGChain', 'xGBuildup']].astype(float)\n",
        "df_all[['player_name', 'position', 'h_team', 'a_team']]= df_all[['player_name', 'position', 'h_team', 'a_team']].astype(str)\n",
        "df_all[['time', 'goals','shots','h_goals','a_goals','id','season','roster_id','assists','key_passes','npg','player_id']] = df_all[['time', 'goals','shots','h_goals','a_goals','id','season','roster_id','assists','key_passes','npg','player_id']].round(1)"
      ]
    },
    {
      "cell_type": "code",
      "execution_count": 54,
      "metadata": {},
      "outputs": [],
      "source": [
        "#cleaning names in df_all[df_all[\"player_name\"]\n",
        "df_all['player_name'] = df_all['player_name'].apply(lambda x: unidecode(x))\n",
        "df_all['player_name'] = df_all['player_name'].replace(to_replace=r'\\d+', value='', regex=True)\n",
        "df_all['player_name'] = df_all['player_name'].replace('-', ' ')\n",
        "df_all['player_name'] = df_all['player_name'].str.strip()\n",
        "df_all['player_name'] = df_all['player_name'].str.lower()\n"
      ]
    },
    {
      "cell_type": "code",
      "execution_count": 59,
      "metadata": {},
      "outputs": [
        {
          "data": {
            "text/plain": [
              "(28346, 22)"
            ]
          },
          "execution_count": 59,
          "metadata": {},
          "output_type": "execute_result"
        }
      ],
      "source": [
        "#Filter just for EPL teams and seasons.\n",
        "EPL_teams_2016_2022 = ['Southampton', 'Bournemouth', 'Chelsea', 'Newcastle United', 'Leicester',\n",
        "       \"Nottingham Forest\", 'Crystal Palace', 'Wolverhampton Wanderers', 'Brentford', 'Tottenham',\n",
        "       'West Ham', 'Liverpool', 'Leeds', 'Fulham', 'Brighton', 'Manchester City',\n",
        "       'Manchester Utd', 'Everton', 'Arsenal', 'Aston Villa', 'Norwich', 'Watford', 'Burnley',\n",
        "       'West Bromwich Albion', 'Sheffield United']\n",
        "\n",
        "# Check if values from the list exist in h_team or a_team columns\n",
        "EPL_teams = df_all['h_team'].isin(EPL_teams_2016_2022) | df_all['a_team'].isin(EPL_teams_2016_2022)\n",
        "\n",
        "# Filter the rows in the dataframe based on the mask\n",
        "df_all = df_all[EPL_teams & (df_all['date'] >= '2020-09-12') & (df_all['time'] >0)]\n",
        "df_all.shape\n",
        "\n",
        "# 28346 vs 28644, so there is a discrepency somewhere."
      ]
    },
    {
      "cell_type": "code",
      "execution_count": 60,
      "metadata": {},
      "outputs": [
        {
          "name": "stdout",
          "output_type": "stream",
          "text": [
            "Stored 'df_all' (DataFrame)\n",
            "Stored 'df_full_FPL' (DataFrame)\n"
          ]
        }
      ],
      "source": [
        "%store df_all\n",
        "%store df_full_FPL\n"
      ]
    },
    {
      "attachments": {},
      "cell_type": "markdown",
      "metadata": {},
      "source": [
        "Now going to join tables on name and date to see if they are mismatched. \n",
        "If they are I will correct the dates"
      ]
    },
    {
      "cell_type": "code",
      "execution_count": 62,
      "metadata": {},
      "outputs": [
        {
          "data": {
            "text/html": [
              "<div>\n",
              "<style scoped>\n",
              "    .dataframe tbody tr th:only-of-type {\n",
              "        vertical-align: middle;\n",
              "    }\n",
              "\n",
              "    .dataframe tbody tr th {\n",
              "        vertical-align: top;\n",
              "    }\n",
              "\n",
              "    .dataframe thead th {\n",
              "        text-align: right;\n",
              "    }\n",
              "</style>\n",
              "<table border=\"1\" class=\"dataframe\">\n",
              "  <thead>\n",
              "    <tr style=\"text-align: right;\">\n",
              "      <th></th>\n",
              "      <th>player_name</th>\n",
              "      <th>date</th>\n",
              "    </tr>\n",
              "  </thead>\n",
              "  <tbody>\n",
              "  </tbody>\n",
              "</table>\n",
              "</div>"
            ],
            "text/plain": [
              "Empty DataFrame\n",
              "Columns: [player_name, date]\n",
              "Index: []"
            ]
          },
          "execution_count": 62,
          "metadata": {},
          "output_type": "execute_result"
        }
      ],
      "source": [
        "#Merge tables on name and date\n",
        "#First re name name as player_name in FPL table\n",
        "\n",
        "# merge the tables on player_name and date\n",
        "merged_table = pd.merge(df_full_FPL_test, df_all_test, on=['player_name', 'date'], how='outer', indicator=True)\n",
        "\n",
        "# display the rows that didn't match\n",
        "unmatched_rows = merged_table[merged_table['_merge'] != 'both']\n",
        "unmatched_rows[[\"player_name\", \"date\"]]"
      ]
    },
    {
      "cell_type": "code",
      "execution_count": 63,
      "metadata": {},
      "outputs": [],
      "source": [
        "#Luckily only one match had an incorrect date. It was out by 1 day. This has now been edited and the tables match.\n",
        "df_all_test.loc[(df_all_test['h_team'] == 'Arsenal') & (df_all_test['a_team'] == 'Everton') & (df_all_test['date'] == '2023-03-02'), 'date'] = '2023-03-01'"
      ]
    },
    {
      "cell_type": "code",
      "execution_count": 15,
      "metadata": {},
      "outputs": [],
      "source": [
        "#Saving table\n",
        "#merged_table.to_csv(\"merged_table.csv\", index=False)\n",
        "merged_table = pd.read_csv('/Users/jon/Documents/fpl_points_prediction/python exports/merged_table.csv', index_col=False)\n"
      ]
    },
    {
      "cell_type": "code",
      "execution_count": 17,
      "metadata": {},
      "outputs": [],
      "source": [
        "#Renaming columns with same names\n",
        "merged_table = merged_table.rename(columns={'position_x': 'position', 'assists_y': 'assists'})"
      ]
    },
    {
      "cell_type": "code",
      "execution_count": 18,
      "metadata": {},
      "outputs": [],
      "source": [
        "#Dropping duplicate columns\n",
        "merged_table = merged_table.drop(['element', 'position_y', 'assists_x'], axis=1)\n",
        "merged_table = merged_table.drop(['goals_scored', 'fixture', 'transfers_balance', 'time', 'roster_id', 'id', 'h_goals', 'a_goals'], axis=1)\n",
        "merged_table = merged_table.drop(['_merge'], axis=1)\n",
        "\n"
      ]
    },
    {
      "cell_type": "code",
      "execution_count": null,
      "metadata": {},
      "outputs": [],
      "source": [
        "#Check and remove duplicate rows\n",
        "before = len(merged_table)\n",
        "data = merged_table.drop_duplicates()\n",
        "after = len(data)\n",
        "print('Number of duplicate records dropped: ', str(before - after))"
      ]
    },
    {
      "cell_type": "code",
      "execution_count": 20,
      "metadata": {},
      "outputs": [],
      "source": [
        "merged_table_clean = merged_table\n",
        "merged_table_clean.to_csv(\"merged_table_clean.csv\", index=False)\n"
      ]
    },
    {
      "cell_type": "code",
      "execution_count": 21,
      "metadata": {},
      "outputs": [
        {
          "name": "stdout",
          "output_type": "stream",
          "text": [
            "Stored 'merged_table_clean' (DataFrame)\n"
          ]
        }
      ],
      "source": [
        "%store merged_table_clean"
      ]
    },
    {
      "cell_type": "code",
      "execution_count": null,
      "metadata": {},
      "outputs": [],
      "source": [
        "#########################\n",
        "####538 - SOCCOR API####\n",
        "#########################\n",
        "\n",
        "seasons_num = [2022, 2021, 2020]\n",
        "\n",
        "import pandas as pd\n",
        "\n",
        "URL = 'https://projects.fivethirtyeight.com/soccer-api/club/spi_matches.csv'\n",
        "data_538 = pd.read_csv(URL)\n",
        "PL = data_538[(data_538['season'].isin(seasons_num)) & (data_538['league'] == 'Barclays Premier League')]"
      ]
    },
    {
      "cell_type": "code",
      "execution_count": null,
      "metadata": {},
      "outputs": [],
      "source": [
        "#Renaming teams\n",
        "\n",
        "PL = PL.rename(columns={'team1': 'h_team', 'team2': 'a_team'})\n",
        "\n",
        "PL.loc[PL['h_team'] == 'Leeds United', 'h_team'] = 'Leeds'\n",
        "PL.loc[PL['a_team'] == 'Leeds United', 'a_team'] = 'Leeds'\n",
        "PL.loc[PL['h_team'] == 'West Ham United', 'h_team'] = 'West Ham'\n",
        "PL.loc[PL['a_team'] == 'West Ham United', 'a_team'] = 'West Ham'\n",
        "PL.loc[PL['h_team'] == 'Wolverhampton', 'h_team'] = 'Wolverhampton Wanderers'\n",
        "PL.loc[PL['a_team'] == 'Wolverhampton', 'a_team'] = 'Wolverhampton Wanderers'\n",
        "PL.loc[PL['h_team'] == 'Tottenham Hotspur', 'h_team'] = 'Tottenham'\n",
        "PL.loc[PL['a_team'] == 'Tottenham Hotspur', 'a_team'] = 'Tottenham'\n",
        "PL.loc[PL['h_team'] == 'Brighton and Hove Albion', 'h_team'] = 'Brighton'\n",
        "PL.loc[PL['a_team'] == 'Brighton and Hove Albion', 'a_team'] = 'Brighton'\n",
        "PL.loc[PL['h_team'] == 'Leicester City', 'h_team'] = 'Leicester'\n",
        "PL.loc[PL['a_team'] == 'Leicester City', 'a_team'] = 'Leicester'\n",
        "PL.loc[PL['h_team'] == 'Leeds United', 'h_team'] = 'Leeds'\n",
        "PL.loc[PL['a_team'] == 'Leeds United', 'a_team'] = 'Leeds'\n",
        "PL.loc[PL['h_team'] == 'AFC Bournemouth', 'h_team'] = 'Bournemouth'\n",
        "PL.loc[PL['a_team'] == 'AFC Bournemouth', 'a_team'] = 'Bournemouth'\n",
        "PL.loc[PL['h_team'] == 'Norwich City', 'h_team'] = 'Norwich'\n",
        "PL.loc[PL['a_team'] == 'Norwich City', 'a_team'] = 'Norwich'\n",
        "PL.loc[PL['h_team'] == 'Newcastle', 'h_team'] = 'Newcastle United'\n",
        "PL.loc[PL['a_team'] == 'Newcastle', 'a_team'] = 'Newcastle United'\n",
        "\n",
        "PL[\"h_team\"].unique()\n",
        "#PL.to_csv(\"match_data.csv\", index=False)"
      ]
    },
    {
      "cell_type": "code",
      "execution_count": null,
      "metadata": {},
      "outputs": [],
      "source": [
        "#Check for missing data\n",
        "#match_data = pd.read_csv('/Users/jon/Documents/fpl_points_prediction/ERD/match_data.csv', delimiter=\";\", index_col=False)\n",
        "null_cols = PL.isnull().sum()\n",
        "null_cols[null_cols > 0]\n",
        "\n",
        "null_importance_h = PL[(PL['importance_h'].isnull()==True)]\n",
        "null_importance_h = null_importance_h[['season_id','date','h_team_id',\t'a_team_id','importance_h', 'importance_a']]\n",
        "null_importance_h\n"
      ]
    },
    {
      "cell_type": "code",
      "execution_count": null,
      "metadata": {},
      "outputs": [],
      "source": [
        "null_importance_h = PL[(PL['h_score'].isnull()==True)]\n",
        "null_importance_h = null_importance_h[['season_id','date','h_team_id',\t'a_team_id', 'h_score', 'a_score', 'h_xg', 'a_xg', 'h_nsxg', 'a_nsxg'  ]]\n",
        "null_importance_h"
      ]
    },
    {
      "cell_type": "code",
      "execution_count": null,
      "metadata": {},
      "outputs": [],
      "source": [
        "#For important_h and importance_a for the first 2 missing values I chose to fill with importance for the season before for the same game as they were played at a similar time of the year.\n",
        "#For the last match, the games in either season were played at different times and so the importance would be different. \n",
        "    #In this case I took an average of the teams importance 2 games either side of the date."
      ]
    },
    {
      "cell_type": "code",
      "execution_count": null,
      "metadata": {},
      "outputs": [],
      "source": [
        "# merge with other datasets on team1, team2, season to check that tables are consistent\n",
        "spi_merged_table = pd.merge(merged_table_clean, PL, on=['h_team', 'a_team', 'season'], how='inner', indicator=True)\n",
        "\n",
        "# display the rows that didn't match\n",
        "unmatched_rows = spi_merged_table[spi_merged_table['_merge'] != 'both']\n",
        "unmatched_rows[['h_team', 'a_team', 'season']]\n",
        "\n",
        "#Tables are consistent and so can be merged and saved as one table.\n",
        "spi_merged_table.columns\n",
        "spi_merged_table.to_csv(\"spi_merged_table.csv\", index=False)"
      ]
    },
    {
      "cell_type": "code",
      "execution_count": null,
      "metadata": {},
      "outputs": [],
      "source": []
    }
  ],
  "metadata": {
    "colab": {
      "provenance": []
    },
    "kernelspec": {
      "display_name": "base",
      "language": "python",
      "name": "python3"
    },
    "language_info": {
      "codemirror_mode": {
        "name": "ipython",
        "version": 3
      },
      "file_extension": ".py",
      "mimetype": "text/x-python",
      "name": "python",
      "nbconvert_exporter": "python",
      "pygments_lexer": "ipython3",
      "version": "3.9.13"
    },
    "vscode": {
      "interpreter": {
        "hash": "a4fddbfe8d809e2d3e9162ef69ab0c6689347e519fade92586b6599260d81fd2"
      }
    }
  },
  "nbformat": 4,
  "nbformat_minor": 0
}
